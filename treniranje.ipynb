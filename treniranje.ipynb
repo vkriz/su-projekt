{
 "cells": [
  {
   "cell_type": "code",
   "execution_count": 29,
   "metadata": {},
   "outputs": [],
   "source": [
    "import pandas as pd\n",
    "import numpy as np\n",
    "from sklearn.model_selection import train_test_split\n",
    "from sklearn.preprocessing import StandardScaler\n",
    "from imblearn.over_sampling import SMOTE, BorderlineSMOTE, ADASYN\n",
    "from imblearn.pipeline import Pipeline\n",
    "from sklearn.metrics import recall_score, accuracy_score\n",
    "from sklearn.svm import SVC\n",
    "import xgboost as xgb\n",
    "from sklearn.ensemble import RandomForestClassifier\n",
    "from sklearn.model_selection import GridSearchCV\n",
    "import pickle"
   ]
  },
  {
   "cell_type": "code",
   "execution_count": 30,
   "metadata": {},
   "outputs": [],
   "source": [
    "#imena stupaca u CTG.xls koje ćemo koristiti (izbacujemo Min i Median)\n",
    "column_names = ['LB', 'AC', 'FM', 'UC', 'DL', 'DS', 'DP', 'ASTV', 'MSTV', 'ALTV', 'MLTV', 'Width', 'Max',\n",
    "                   'Nmax', 'Nzeros', 'Mode', 'Mean', 'Variance', 'Tendency', 'NSP']\n",
    "\n",
    "#stupci koji sadrže int vrijednosti, samo za ljepši ispis\n",
    "int_columns = ['LB' ,'ASTV' ,'ALTV' ,'Width' ,'Max' ,'Nmax' ,'Nzeros' ,'Mode' ,'Mean' ,'Variance',\n",
    "               'Tendency', 'NSP']"
   ]
  },
  {
   "cell_type": "code",
   "execution_count": 31,
   "metadata": {},
   "outputs": [],
   "source": [
    "data = pd.read_excel('CTG.xls', sheet_name = 'Data', skiprows = 1, \n",
    "                     usecols = [10, 11, 12, 13, 14, 15, 16, 17, 18, 19, 20, 21, 23, 24, 25, 26, 27, 29, 30, 45]\n",
    "                     , names = column_names)\n",
    "\n",
    "#izbacujemo sve retke u kojima je barem jedna varijabla nepoznata (NaN)\n",
    "data = data.dropna()\n",
    "\n",
    "for col in int_columns:\n",
    "    data[col] = (data[col]).astype(int)\n",
    "    "
   ]
  },
  {
   "cell_type": "markdown",
   "metadata": {},
   "source": [
    "Stratificirana podjela u train i test skupove."
   ]
  },
  {
   "cell_type": "code",
   "execution_count": 32,
   "metadata": {},
   "outputs": [],
   "source": [
    "X = data.iloc[:,:-1].values\n",
    "y = data.iloc[:,-1].values\n",
    "X_train, X_test, y_train, y_test = train_test_split(X, y, stratify = y, test_size=0.2, random_state=42)"
   ]
  },
  {
   "cell_type": "markdown",
   "metadata": {},
   "source": [
    "Standardizacija."
   ]
  },
  {
   "cell_type": "code",
   "execution_count": 33,
   "metadata": {},
   "outputs": [],
   "source": [
    "sc = StandardScaler()\n",
    "X_train = sc.fit_transform(X_train)\n",
    "X_test = sc.transform(X_test)"
   ]
  },
  {
   "cell_type": "code",
   "execution_count": 34,
   "metadata": {},
   "outputs": [],
   "source": [
    "#names = ['LB', 'AC', 'FM', 'UC', 'DL', 'DS', 'DP', 'ASTV', 'MSTV', 'ALTV', 'MLTV', 'Width', 'Min', 'Max','Nmax', 'Nzeros', 'Mode', 'Mean', 'Median', 'Variance', 'Tendency']\n",
    "#X_train = pd.read_csv('X_train.csv', names = names, header = None).values\n",
    "#X_test = pd.read_csv('X_test.csv', names = names, header = None).values\n",
    "#y_train = pd.read_csv('y_train.csv', names = ['NSP'], header = None).values\n",
    "#y_test = pd.read_csv('y_test.csv', names = ['NSP'], header = None).values"
   ]
  },
  {
   "cell_type": "code",
   "execution_count": 35,
   "metadata": {},
   "outputs": [],
   "source": [
    "np.savetxt(r'/home/lucijaval/Documents/strojno_treniranje/su-projekt-master/X_train.csv', X_train, delimiter=\",\")\n",
    "np.savetxt(r'/home/lucijaval/Documents/strojno_treniranje/su-projekt-master/X_test.csv', X_test, delimiter=\",\")\n",
    "np.savetxt(r'/home/lucijaval/Documents/strojno_treniranje/su-projekt-master/y_train.csv', y_train, delimiter=\",\")\n",
    "np.savetxt(r'/home/lucijaval/Documents/strojno_treniranje/su-projekt-master/y_test.csv', y_test, delimiter=\",\")\n",
    "\n",
    "#X_train.to_csv(r'C:\\Users\\Korisnik\\Documents\\Strojno ucenje\\Projekt\\X_train.csv', index = None, header = True)\n",
    "#X_test.to_csv(r'C:\\Users\\Korisnik\\Documents\\Strojno ucenje\\Projekt\\X_test.csv', index = None, header = True)\n",
    "#y_train.to_csv(r'C:\\Users\\Korisnik\\Documents\\Strojno ucenje\\Projekt\\y_train.csv', index = None, header = True)\n",
    "#y_test.to_csv(r'C:\\Users\\Korisnik\\Documents\\Strojno ucenje\\Projekt\\y_test.csv', index = None, header = True) "
   ]
  },
  {
   "cell_type": "code",
   "execution_count": 36,
   "metadata": {},
   "outputs": [],
   "source": [
    "svc_s_pipeline = Pipeline([\n",
    "        ('sampling', SMOTE()),\n",
    "        ('classification', SVC(probability=True))\n",
    "    ])\n",
    "parameters_svc = [\n",
    "    {'classification__C':[1, 10, 100, 1000], 'classification__kernel':['linear']},\n",
    "    {'classification__C':[1, 10, 100, 1000], 'classification__gamma':[0.001, 0.0001], 'classification__kernel':['rbf']}\n",
    "    ]\n",
    "\n",
    "svc_s = GridSearchCV(svc_s_pipeline, parameters_svc, cv = 5)\n",
    "svc_s.fit(X_train, y_train)\n",
    "\n",
    "svc_s_best = svc_s.best_estimator_\n",
    "with open(\"svc_SMOTE.pkl\" , 'wb') as file:  \n",
    "    pickle.dump(svc_s_best, file)"
   ]
  },
  {
   "cell_type": "code",
   "execution_count": 37,
   "metadata": {},
   "outputs": [],
   "source": [
    "svc_bs_pipeline = Pipeline([\n",
    "        ('sampling', BorderlineSMOTE()),\n",
    "        ('classification', SVC(probability=True))\n",
    "    ]) \n",
    "svc_bs = GridSearchCV(svc_bs_pipeline, parameters_svc, cv = 5)\n",
    "svc_bs.fit(X_train, y_train)\n",
    "\n",
    "svc_bs_best = svc_bs.best_estimator_\n",
    "with open(\"svc_BorderlineSMOTE.pkl\" , 'wb') as file:  \n",
    "    pickle.dump(svc_bs_best, file)"
   ]
  },
  {
   "cell_type": "code",
   "execution_count": 38,
   "metadata": {},
   "outputs": [],
   "source": [
    "svc_a_pipeline = Pipeline([\n",
    "        ('sampling', ADASYN()),\n",
    "        ('classification', SVC(probability=True))\n",
    "    ]) \n",
    "svc_a = GridSearchCV(svc_a_pipeline, parameters_svc, cv = 5)\n",
    "svc_a.fit(X_train, y_train)\n",
    "\n",
    "svc_a_best = svc_a.best_estimator_\n",
    "with open(\"svc_ADASYN.pkl\" , 'wb') as file:  \n",
    "    pickle.dump(svc_a_best, file)"
   ]
  },
  {
   "cell_type": "code",
   "execution_count": 39,
   "metadata": {},
   "outputs": [],
   "source": [
    "xgb_s_pipeline = Pipeline([\n",
    "        ('sampling', SMOTE()),\n",
    "        ('classification', xgb.XGBClassifier())\n",
    "    ])\n",
    "parameters_xgb = {\n",
    "        'classification__min_child_weight': [1, 5, 10],\n",
    "        'classification__gamma': [0.5, 1, 1.5, 2, 5],\n",
    "        'classification__subsample': [0.6, 0.8, 1.0],\n",
    "        'classification__colsample_bytree': [0.6, 0.8, 1.0],\n",
    "        'classification__max_depth': [3, 4, 5]\n",
    "        }\n",
    "\n",
    "xgb_s = GridSearchCV(xgb_s_pipeline, parameters_xgb, cv = 5)\n",
    "xgb_s.fit(X_train, y_train.ravel())\n",
    "\n",
    "xgb_s_best = xgb_s.best_estimator_\n",
    "with open(\"xgb_SMOTE.pkl\" , 'wb') as file:  \n",
    "    pickle.dump(xgb_s_best, file)"
   ]
  },
  {
   "cell_type": "code",
   "execution_count": 40,
   "metadata": {},
   "outputs": [],
   "source": [
    "xgb_bs_pipeline = Pipeline([\n",
    "        ('sampling', BorderlineSMOTE()),\n",
    "        ('classification', xgb.XGBClassifier())\n",
    "    ])\n",
    "\n",
    "xgb_bs = GridSearchCV(xgb_bs_pipeline, parameters_xgb, cv = 5)\n",
    "xgb_bs.fit(X_train, y_train)\n",
    "\n",
    "xgb_bs_best = xgb_bs.best_estimator_\n",
    "with open(\"xgb_BorderlineSMOTE.pkl\" , 'wb') as file:  \n",
    "    pickle.dump(xgb_bs_best, file)"
   ]
  },
  {
   "cell_type": "code",
   "execution_count": 41,
   "metadata": {},
   "outputs": [],
   "source": [
    "xgb_a_pipeline = Pipeline([\n",
    "        ('sampling', ADASYN()),\n",
    "        ('classification', xgb.XGBClassifier())\n",
    "    ])\n",
    "\n",
    "xgb_a = GridSearchCV(xgb_a_pipeline, parameters_xgb, cv = 5)\n",
    "xgb_a.fit(X_train, y_train)\n",
    "\n",
    "xgb_a_best = xgb_a.best_estimator_\n",
    "with open(\"xgb_ADASYN.pkl\" , 'wb') as file:  \n",
    "    pickle.dump(xgb_a_best, file)"
   ]
  },
  {
   "cell_type": "code",
   "execution_count": 42,
   "metadata": {},
   "outputs": [],
   "source": [
    "rf_s_pipeline = Pipeline([\n",
    "        ('sampling', SMOTE()),\n",
    "        ('classification', RandomForestClassifier(random_state=2018))\n",
    "    ])\n",
    "parameters_rf = {\n",
    "    'classification__n_estimators': [16,32,64,128],\n",
    "    'classification__max_features': list(range(1,20))\n",
    "    }\n",
    "\n",
    "rf_s = GridSearchCV(rf_s_pipeline, parameters_rf, cv = 5)\n",
    "rf_s.fit(X_train, y_train)\n",
    "\n",
    "rf_s_best = rf_s.best_estimator_\n",
    "with open('rf_SMOTE.pkl' , 'wb') as file:  \n",
    "    pickle.dump(rf_s_best, file)"
   ]
  },
  {
   "cell_type": "code",
   "execution_count": 43,
   "metadata": {},
   "outputs": [
    {
     "name": "stdout",
     "output_type": "stream",
     "text": [
      "Točnost Random forest uz SMOTE: 0.92\n",
      "Recall Random forest uz SMOTE: 0.86\n"
     ]
    }
   ],
   "source": [
    "print(\"Točnost Random forest uz SMOTE: %.2f\" %rf_s_best.score(X_test, y_test))\n",
    "print(\"Recall Random forest uz SMOTE: %.2f\" %recall_score(y_test, rf_s_best.predict(X_test), average = None)[2])"
   ]
  },
  {
   "cell_type": "code",
   "execution_count": 44,
   "metadata": {},
   "outputs": [],
   "source": [
    "rf_bs_pipeline = Pipeline([\n",
    "        ('sampling', BorderlineSMOTE()),\n",
    "        ('classification', RandomForestClassifier(random_state=2018))\n",
    "    ])\n",
    "\n",
    "rf_bs = GridSearchCV(rf_bs_pipeline, parameters_rf, cv = 5)\n",
    "rf_bs.fit(X_train, y_train)\n",
    "\n",
    "rf_bs_best = rf_bs.best_estimator_\n",
    "with open(\"rf_BorderlineSMOTE.pkl\" , 'wb') as file:  \n",
    "    pickle.dump(rf_bs_best, file)"
   ]
  },
  {
   "cell_type": "code",
   "execution_count": 45,
   "metadata": {},
   "outputs": [
    {
     "name": "stdout",
     "output_type": "stream",
     "text": [
      "Točnost Random forest uz BorderlineSMOTE: 0.93\n",
      "Recall Random forest uz BorderlineSMOTE: 0.91\n"
     ]
    }
   ],
   "source": [
    "print(\"Točnost Random forest uz BorderlineSMOTE: %.2f\" %rf_bs_best.score(X_test, y_test))\n",
    "print(\"Recall Random forest uz BorderlineSMOTE: %.2f\" %recall_score(y_test, rf_bs_best.predict(X_test), average = None)[2])"
   ]
  },
  {
   "cell_type": "code",
   "execution_count": 46,
   "metadata": {},
   "outputs": [],
   "source": [
    "rf_a_pipeline = Pipeline([\n",
    "        ('sampling', ADASYN()),\n",
    "        ('classification', RandomForestClassifier(random_state=2018))\n",
    "    ])\n",
    "\n",
    "rf_a = GridSearchCV(rf_a_pipeline, parameters_rf, cv = 5)\n",
    "rf_a.fit(X_train, y_train)\n",
    "\n",
    "rf_a_best = rf_a.best_estimator_\n",
    "with open(\"rf_ADASYN.pkl\" , 'wb') as file:  \n",
    "    pickle.dump(rf_a_best, file)"
   ]
  },
  {
   "cell_type": "code",
   "execution_count": null,
   "metadata": {},
   "outputs": [],
   "source": []
  },
  {
   "cell_type": "code",
   "execution_count": null,
   "metadata": {},
   "outputs": [],
   "source": []
  },
  {
   "cell_type": "code",
   "execution_count": null,
   "metadata": {},
   "outputs": [],
   "source": []
  },
  {
   "cell_type": "code",
   "execution_count": null,
   "metadata": {},
   "outputs": [],
   "source": []
  },
  {
   "cell_type": "code",
   "execution_count": null,
   "metadata": {},
   "outputs": [],
   "source": []
  },
  {
   "cell_type": "code",
   "execution_count": 47,
   "metadata": {},
   "outputs": [],
   "source": [
    "svc_s_pipeline = Pipeline([\n",
    "        ('classification', SVC(probability=True))\n",
    "    ])\n",
    "parameters_svc = [\n",
    "    {'classification__C':[1, 10, 100, 1000], 'classification__kernel':['linear']},\n",
    "    {'classification__C':[1, 10, 100, 1000], 'classification__gamma':[0.001, 0.0001], 'classification__kernel':['rbf']}\n",
    "    ]\n",
    "\n",
    "svc_s = GridSearchCV(svc_s_pipeline, parameters_svc, cv = 5)\n",
    "svc_s.fit(X_train, y_train)\n",
    "\n",
    "svc_s_best = svc_s.best_estimator_\n",
    "with open(\"svc.pkl\" , 'wb') as file:  \n",
    "    pickle.dump(svc_s_best, file)"
   ]
  },
  {
   "cell_type": "code",
   "execution_count": 48,
   "metadata": {},
   "outputs": [],
   "source": [
    "xgb_s_pipeline = Pipeline([\n",
    "        ('classification', xgb.XGBClassifier())\n",
    "    ])\n",
    "parameters_xgb = {\n",
    "        'classification__min_child_weight': [1, 5, 10],\n",
    "        'classification__gamma': [0.5, 1, 1.5, 2, 5],\n",
    "        'classification__subsample': [0.6, 0.8, 1.0],\n",
    "        'classification__colsample_bytree': [0.6, 0.8, 1.0],\n",
    "        'classification__max_depth': [3, 4, 5]\n",
    "        }\n",
    "\n",
    "xgb_s = GridSearchCV(xgb_s_pipeline, parameters_xgb, cv = 5)\n",
    "xgb_s.fit(X_train, y_train.ravel())\n",
    "\n",
    "xgb_s_best = xgb_s.best_estimator_\n",
    "with open(\"xgb.pkl\" , 'wb') as file:  \n",
    "    pickle.dump(xgb_s_best, file)"
   ]
  },
  {
   "cell_type": "code",
   "execution_count": 49,
   "metadata": {},
   "outputs": [],
   "source": [
    "rf_s_pipeline = Pipeline([\n",
    "        ('classification', RandomForestClassifier(random_state=2018))\n",
    "    ])\n",
    "parameters_rf = {\n",
    "    'classification__n_estimators': [16,32,64,128],\n",
    "    'classification__max_features': list(range(1,20))\n",
    "    }\n",
    "\n",
    "rf_s = GridSearchCV(rf_s_pipeline, parameters_rf, cv = 5)\n",
    "rf_s.fit(X_train, y_train)\n",
    "\n",
    "rf_s_best = rf_s.best_estimator_\n",
    "with open('rf.pkl' , 'wb') as file:  \n",
    "    pickle.dump(rf_s_best, file)"
   ]
  },
  {
   "cell_type": "code",
   "execution_count": null,
   "metadata": {},
   "outputs": [],
   "source": []
  },
  {
   "cell_type": "code",
   "execution_count": null,
   "metadata": {},
   "outputs": [],
   "source": []
  },
  {
   "cell_type": "code",
   "execution_count": null,
   "metadata": {},
   "outputs": [],
   "source": []
  },
  {
   "cell_type": "code",
   "execution_count": null,
   "metadata": {},
   "outputs": [],
   "source": []
  },
  {
   "cell_type": "code",
   "execution_count": null,
   "metadata": {},
   "outputs": [],
   "source": []
  },
  {
   "cell_type": "markdown",
   "metadata": {},
   "source": [
    "Training i validation skupovi za cross-validation."
   ]
  },
  {
   "cell_type": "code",
   "execution_count": null,
   "metadata": {},
   "outputs": [],
   "source": [
    "skf = StratifiedKFold(n_splits=5, random_state=164981614)\n",
    "\n",
    "X_training, X_validation, y_training, y_validation = [], [], [], []\n",
    "\n",
    "for train_index, validate_index in skf.split(X_train, y_train):\n",
    "    X_training.append(X_train[train_index])\n",
    "    X_validation.append(X_train[validate_index])\n",
    "    y_training.append(y_train[train_index])\n",
    "    y_validation.append(y_train[validate_index])"
   ]
  },
  {
   "cell_type": "markdown",
   "metadata": {},
   "source": [
    "Funkcija za određivanje najboljih parametara modela uz zadani oversampler."
   ]
  },
  {
   "cell_type": "code",
   "execution_count": null,
   "metadata": {},
   "outputs": [],
   "source": [
    "def best_model_oversampling(grid_search, X_train, y_train, oversampler):\n",
    "    cv_score = 0.\n",
    "    cv_recall = 0.\n",
    "    validation_score = 0.\n",
    "    validation_recall = 0.\n",
    "    for i in range (5):\n",
    "        X_training_oversampled, y_training_oversampled = oversampler.fit_resample(X_training[i], y_training[i])\n",
    "        grid_search.fit(X_training_oversampled, y_training_oversampled)\n",
    "        best_parameters = grid_search.best_estimator_.get_params()\n",
    "        model = grid_search.best_estimator_.fit(X_training_oversampled, y_training_oversampled)\n",
    "        y_pred = model.predict(X_validation[i])\n",
    "        acc_score = accuracy_score(y_validation[i], y_pred)\n",
    "        recall  = recall_score(y_validation[i], model.predict(X_validation[i]), average = None)[2]\n",
    "        cv_recall += recall\n",
    "        cv_score += acc_score   \n",
    "    cv_score = cv_score/5\n",
    "    cv_recall = cv_recall/5\n",
    "    return model"
   ]
  },
  {
   "cell_type": "code",
   "execution_count": null,
   "metadata": {},
   "outputs": [],
   "source": [
    "def best_model(grid_search, X_train, y_train):\n",
    "    cv_score = 0.\n",
    "    cv_recall = 0.\n",
    "    validation_score = 0.\n",
    "    validation_recall = 0.\n",
    "    for i in range (5):\n",
    "        grid_search.fit(X_training[i], y_training[i])\n",
    "        best_parameters = grid_search.best_estimator_.get_params()\n",
    "        model = grid_search.best_estimator_.fit(X_training[i], y_training[i])\n",
    "        y_pred = model.predict(X_validation[i])\n",
    "        acc_score = accuracy_score(y_validation[i], y_pred)\n",
    "        recall  = recall_score(y_validation[i], model.predict(X_validation[i]), average = None)[2]\n",
    "        cv_recall += recall\n",
    "        cv_score += acc_score   \n",
    "    cv_score = cv_score/5\n",
    "    cv_recall = cv_recall/5\n",
    "    return model"
   ]
  },
  {
   "cell_type": "markdown",
   "metadata": {},
   "source": [
    "SVC:"
   ]
  },
  {
   "cell_type": "code",
   "execution_count": null,
   "metadata": {},
   "outputs": [],
   "source": [
    "parameters_SVC = [\n",
    "    {'C':[1, 10, 100, 1000], 'kernel':['linear']},\n",
    "    {'C':[1, 10, 100, 1000], 'gamma':[0.001, 0.0001], 'kernel':['rbf']}\n",
    "    ]\n",
    "grid_search_SVC = GridSearchCV(SVC(probability=True), parameters_SVC, cv = 5)\n",
    "\n",
    "models = []\n",
    "models.append(best_model_oversampling(grid_search_SVC, X_train, y_train, SMOTE()))\n",
    "print(\"Istrenirao SVC SMOTE.\")\n",
    "models.append(best_model_oversampling(grid_search_SVC, X_train, y_train, BorderlineSMOTE()))\n",
    "print(\"Istrenirao SVC BorderlineSMOTE.\")\n",
    "models.append(best_model_oversampling(grid_search_SVC, X_train, y_train, ADASYN()))\n",
    "print(\"Istrenirao SVC ADASYN.\")\n",
    "models.append(best_model(grid_search_SVC, X_train, y_train))\n",
    "print(\"Istrenirao SVC bez oversamplinga.\")\n",
    "\n",
    "pkl_filenames = {\"svc_SMOTE.pkl\", \"svc_BorderlineSMOTE.pkl\", \"svc_ADASYN.pkl\", \"svc_obicni.pkl\"}  \n",
    "\n",
    "for i in range(4):\n",
    "    with open(pkl_filenames[i], 'wb') as file:  \n",
    "        pickle.dump(models[i], file)"
   ]
  },
  {
   "cell_type": "markdown",
   "metadata": {},
   "source": [
    "xgBoost:"
   ]
  },
  {
   "cell_type": "code",
   "execution_count": null,
   "metadata": {},
   "outputs": [],
   "source": [
    "parameters_xgb = {\n",
    "        'min_child_weight': [1, 5, 10],\n",
    "        'gamma': [0.5, 1, 1.5, 2, 5],\n",
    "        'subsample': [0.6, 0.8, 1.0],\n",
    "        'colsample_bytree': [0.6, 0.8, 1.0],\n",
    "        'max_depth': [3, 4, 5]\n",
    "        }\n",
    "grid_search_xgb = GridSearchCV(xgb.XGBClassifier(), parameters_xgb, cv = 5)\n",
    "\n",
    "models = []\n",
    "models.append(best_model_oversampling(grid_search_xgb, X_train, y_train, SMOTE()))\n",
    "print(\"Istrenirao xgBoost SMOTE.\")\n",
    "models.append(best_model_oversampling(grid_search_xgb, X_train, y_train, BorderlineSMOTE()))\n",
    "print(\"Istrenirao xgBoost BorderlineSMOTE.\")\n",
    "models.append(best_model_oversampling(grid_search_xgb, X_train, y_train, ADASYN()))\n",
    "print(\"Istrenirao xgBoost ADASYN.\")\n",
    "models.append(best_model(grid_search_xgb, X_train, y_train))\n",
    "print(\"Istrenirao xgBoost bez oversamplinga.\")\n",
    "\n",
    "pkl_filenames = {\"xgb_SMOTE.pkl\", \"xgb_BorderlineSMOTE.pkl\", \"xgb_ADASYN.pkl\", \"xgb_obicni.pkl\"}  \n",
    "\n",
    "for i in range(4):\n",
    "    with open(pkl_filenames[i], 'wb') as file:  \n",
    "        pickle.dump(models[i], file)"
   ]
  },
  {
   "cell_type": "markdown",
   "metadata": {},
   "source": [
    "Random forest:"
   ]
  },
  {
   "cell_type": "code",
   "execution_count": null,
   "metadata": {},
   "outputs": [],
   "source": [
    "parameters_rf = {\n",
    "    'n_estimators': list(range(1,21,2)),\n",
    "    'max_features': list(range(1,18))\n",
    "    }\n",
    "grid_search_rf = GridSearchCV(RandomForestClassifier(random_state=2018), parameters_rf, cv=5)\n",
    "\n",
    "models = []\n",
    "models.append(best_model_oversampling(grid_search_rf, X_train, y_train, SMOTE()))\n",
    "print(\"Istrenirao Random forest SMOTE.\")\n",
    "models.append(best_model_oversampling(grid_search_rf, X_train, y_train, BorderlineSMOTE()))\n",
    "print(\"Istrenirao Random forest BorderlineSMOTE.\")\n",
    "models.append(best_model_oversampling(grid_search_rf, X_train, y_train, ADASYN()))\n",
    "print(\"Istrenirao Random forest ADASYN.\")\n",
    "models.append(best_model(grid_search_rf, X_train, y_train))\n",
    "print(\"Istrenirao Random forest bez oversamplinga.\")\n",
    "\n",
    "pkl_filenames = {\"rf_SMOTE.pkl\", \"rf_BorderlineSMOTE.pkl\", \"rf_ADASYN.pkl\", \"rf_obicni.pkl\"}  \n",
    "\n",
    "for i in range(4):\n",
    "    with open(pkl_filenames[i], 'wb') as file:  \n",
    "        pickle.dump(models[i], file)"
   ]
  },
  {
   "cell_type": "code",
   "execution_count": null,
   "metadata": {},
   "outputs": [],
   "source": []
  }
 ],
 "metadata": {
  "kernelspec": {
   "display_name": "Python 3",
   "language": "python",
   "name": "python3"
  },
  "language_info": {
   "codemirror_mode": {
    "name": "ipython",
    "version": 3
   },
   "file_extension": ".py",
   "mimetype": "text/x-python",
   "name": "python",
   "nbconvert_exporter": "python",
   "pygments_lexer": "ipython3",
   "version": "3.7.3"
  }
 },
 "nbformat": 4,
 "nbformat_minor": 2
}
