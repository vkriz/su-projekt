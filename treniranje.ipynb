{
 "cells": [
  {
   "cell_type": "code",
   "execution_count": 12,
   "metadata": {},
   "outputs": [],
   "source": [
    "import pandas as pd\n",
    "from sklearn.model_selection import train_test_split\n",
    "from sklearn.preprocessing import StandardScaler\n",
    "from sklearn.model_selection import StratifiedKFold\n",
    "from imblearn.over_sampling import SMOTE, BorderlineSMOTE, ADASYN\n",
    "from sklearn.metrics import recall_score, accuracy_score\n",
    "from sklearn.svm import SVC\n",
    "import xgboost as xgb\n",
    "from sklearn.ensemble import RandomForestClassifier\n",
    "from sklearn.model_selection import GridSearchCV\n",
    "import pickle"
   ]
  },
  {
   "cell_type": "code",
   "execution_count": 13,
   "metadata": {},
   "outputs": [],
   "source": [
    "#imena stupaca u CTG.xls koje ćemo koristiti\n",
    "column_names = ['LB', 'AC', 'FM', 'UC', 'DL', 'DS', 'DP', 'ASTV', 'MSTV', 'ALTV', 'MLTV', 'Width', 'Min', 'Max',\n",
    "                   'Nmax', 'Nzeros', 'Mode', 'Mean', 'Median', 'Variance', 'Tendency', 'NSP']\n",
    "\n",
    "#stupci koji sadrže int vrijednosti, samo za ljepši ispis\n",
    "int_columns = ['LB' ,'ASTV' ,'ALTV' ,'Width' ,'Min' ,'Max' ,'Nmax' ,'Nzeros' ,'Mode' ,'Mean' ,'Median' ,'Variance',\n",
    "               'Tendency', 'NSP']"
   ]
  },
  {
   "cell_type": "code",
   "execution_count": 14,
   "metadata": {},
   "outputs": [],
   "source": [
    "data = pd.read_excel('CTG.xls', sheet_name = 'Data', skiprows = 1, \n",
    "                     usecols = [10, 11, 12, 13, 14, 15, 16, 17, 18, 19, 20, 21, 22, 23, 24, 25, 26, 27, 28, 29, 30, 45]\n",
    "                     , names = column_names)\n",
    "\n",
    "#izbacujemo sve retke u kojima je barem jedna varijabla nepoznata (NaN)\n",
    "data = data.dropna()\n",
    "\n",
    "for col in int_columns:\n",
    "    data[col] = (data[col]).astype(int)"
   ]
  },
  {
   "cell_type": "markdown",
   "metadata": {},
   "source": [
    "Standardizacija:"
   ]
  },
  {
   "cell_type": "markdown",
   "metadata": {},
   "source": [
    "Podjela u train i test skupove."
   ]
  },
  {
   "cell_type": "code",
   "execution_count": 15,
   "metadata": {
    "scrolled": true
   },
   "outputs": [
    {
     "name": "stdout",
     "output_type": "stream",
     "text": [
      "Broj primjera za treniranje: 1700\n",
      "Broj primjera za testiranje: 426\n"
     ]
    }
   ],
   "source": [
    "train, test = train_test_split(data, test_size=0.20, random_state=42)\n",
    "print('Broj primjera za treniranje: ' + str(len(train)))\n",
    "print('Broj primjera za testiranje: ' + str(len(test)))"
   ]
  },
  {
   "cell_type": "code",
   "execution_count": 17,
   "metadata": {},
   "outputs": [],
   "source": [
    "train.to_csv (r'C:\\Users\\Korisnik\\Documents\\Strojno ucenje\\Projekt\\train.csv', index = None, header=True)\n",
    "test.to_csv (r'C:\\Users\\Korisnik\\Documents\\Strojno ucenje\\Projekt\\test.csv', index = None, header=True)"
   ]
  },
  {
   "cell_type": "code",
   "execution_count": 18,
   "metadata": {},
   "outputs": [],
   "source": [
    "X_train = train.iloc[:,:-1].values \n",
    "y_train = train.iloc[:,-1].values\n",
    "\n",
    "X_test = test.iloc[:,:-1].values \n",
    "y_test = test.iloc[:,-1].values"
   ]
  },
  {
   "cell_type": "markdown",
   "metadata": {},
   "source": [
    "Standardizacija."
   ]
  },
  {
   "cell_type": "code",
   "execution_count": 19,
   "metadata": {},
   "outputs": [],
   "source": [
    "sc = StandardScaler()\n",
    "X_train = sc.fit_transform(X_train)\n",
    "X_test = sc.transform(X_test)"
   ]
  },
  {
   "cell_type": "markdown",
   "metadata": {},
   "source": [
    "Training i validation skupovi za cross-validation."
   ]
  },
  {
   "cell_type": "code",
   "execution_count": 20,
   "metadata": {},
   "outputs": [],
   "source": [
    "skf = StratifiedKFold(n_splits=5, random_state=164981614)\n",
    "\n",
    "X_training, X_validation, y_training, y_validation = [], [], [], []\n",
    "\n",
    "for train_index, validate_index in skf.split(X_train, y_train):\n",
    "    X_training.append(X_train[train_index])\n",
    "    X_validation.append(X_train[validate_index])\n",
    "    y_training.append(y_train[train_index])\n",
    "    y_validation.append(y_train[validate_index])"
   ]
  },
  {
   "cell_type": "markdown",
   "metadata": {},
   "source": [
    "Funkcija za određivanje najboljih parametara modela uz zadani oversampler."
   ]
  },
  {
   "cell_type": "code",
   "execution_count": 21,
   "metadata": {},
   "outputs": [],
   "source": [
    "def best_model_oversampling(grid_search, X_train, y_train, oversampler):\n",
    "    cv_score = 0.\n",
    "    cv_recall = 0.\n",
    "    validation_score = 0.\n",
    "    validation_recall = 0.\n",
    "    for i in range (5):\n",
    "        X_training_oversampled, y_training_oversampled = oversampler.fit_resample(X_training[i], y_training[i])\n",
    "        grid_search.fit(X_training_oversampled, y_training_oversampled)\n",
    "        best_parameters = grid_search.best_estimator_.get_params()\n",
    "        model = grid_search.best_estimator_.fit(X_training_oversampled, y_training_oversampled)\n",
    "        y_pred = model.predict(X_validation[i])\n",
    "        acc_score = accuracy_score(y_validation[i], y_pred)\n",
    "        recall  = recall_score(y_validation[i], model.predict(X_validation[i]), average = None)[2]\n",
    "        cv_recall += recall\n",
    "        cv_score += acc_score   \n",
    "    cv_score = cv_score/5\n",
    "    cv_recall = cv_recall/5\n",
    "    return model"
   ]
  },
  {
   "cell_type": "code",
   "execution_count": 22,
   "metadata": {},
   "outputs": [],
   "source": [
    "def best_model(grid_search, X_train, y_train):\n",
    "    cv_score = 0.\n",
    "    cv_recall = 0.\n",
    "    validation_score = 0.\n",
    "    validation_recall = 0.\n",
    "    for i in range (5):\n",
    "        grid_search.fit(X_training[i], y_training[i])\n",
    "        best_parameters = grid_search.best_estimator_.get_params()\n",
    "        model = grid_search.best_estimator_.fit(X_training[i], y_training[i])\n",
    "        y_pred = model.predict(X_validation[i])\n",
    "        acc_score = accuracy_score(y_validation[i], y_pred)\n",
    "        recall  = recall_score(y_validation[i], model.predict(X_validation[i]), average = None)[2]\n",
    "        cv_recall += recall\n",
    "        cv_score += acc_score   \n",
    "    cv_score = cv_score/5\n",
    "    cv_recall = cv_recall/5\n",
    "    return model"
   ]
  },
  {
   "cell_type": "markdown",
   "metadata": {},
   "source": [
    "SVC:"
   ]
  },
  {
   "cell_type": "code",
   "execution_count": null,
   "metadata": {},
   "outputs": [],
   "source": [
    "parameters_SVC = [\n",
    "    {'C':[1, 10, 100, 1000], 'kernel':['linear']},\n",
    "    {'C':[1, 10, 100, 1000], 'gamma':[0.001, 0.0001], 'kernel':['rbf']}\n",
    "    ]\n",
    "grid_search_SVC = GridSearchCV(SVC(probability=True), parameters_SVC, cv = 3)\n",
    "\n",
    "models = []\n",
    "models.append(best_model_oversampling(grid_search_SVC, X_train, y_train, SMOTE()))\n",
    "print(\"Istrenirao SVC SMOTE.\")\n",
    "models.append(best_model_oversampling(grid_search_SVC, X_train, y_train, BorderlineSMOTE()))\n",
    "print(\"Istrenirao SVC BorderlineSMOTE.\")\n",
    "models.append(best_model_oversampling(grid_search_SVC, X_train, y_train, ADASYN()))\n",
    "print(\"Istrenirao SVC ADASYN.\")\n",
    "models.append(best_model(grid_search_SVC, X_train, y_train))\n",
    "print(\"Istrenirao SVC bez oversamplinga.\")\n",
    "\n",
    "pkl_filenames = {\"svc_SMOTE.pkl\", \"svc_BorderlineSMOTE.pkl\", \"svc_ADASYN.pkl\", \"svc_obicni.pkl\"}  \n",
    "\n",
    "for i in range(4):\n",
    "    with open(pkl_filenames[i], 'wb') as file:  \n",
    "        pickle.dump(models[i], file)"
   ]
  },
  {
   "cell_type": "markdown",
   "metadata": {},
   "source": [
    "xgBoost:"
   ]
  },
  {
   "cell_type": "code",
   "execution_count": null,
   "metadata": {},
   "outputs": [],
   "source": [
    "parameters_xgb = {\n",
    "        'min_child_weight': [1, 5, 10],\n",
    "        'gamma': [0.5, 1, 1.5, 2, 5],\n",
    "        'subsample': [0.6, 0.8, 1.0],\n",
    "        'colsample_bytree': [0.6, 0.8, 1.0],\n",
    "        'max_depth': [3, 4, 5]\n",
    "        }\n",
    "grid_search_xgb = GridSearchCV(xgb.XGBClassifier(), parameters_xgb, cv = 3)\n",
    "\n",
    "models = []\n",
    "models.append(best_model_oversampling(grid_search_xgb, X_train, y_train, SMOTE()))\n",
    "print(\"Istrenirao xgBoost SMOTE.\")\n",
    "models.append(best_model_oversampling(grid_search_xgb, X_train, y_train, BorderlineSMOTE()))\n",
    "print(\"Istrenirao xgBoost BorderlineSMOTE.\")\n",
    "models.append(best_model_oversampling(grid_search_xgb, X_train, y_train, ADASYN()))\n",
    "print(\"Istrenirao xgBoost ADASYN.\")\n",
    "models.append(best_model(grid_search_xgb, X_train, y_train))\n",
    "print(\"Istrenirao xgBoost bez oversamplinga.\")\n",
    "\n",
    "pkl_filenames = {\"xgb_SMOTE.pkl\", \"xgb_BorderlineSMOTE.pkl\", \"xgb_ADASYN.pkl\", \"xgb_obicni.pkl\"}  \n",
    "\n",
    "for i in range(4):\n",
    "    with open(pkl_filenames[i], 'wb') as file:  \n",
    "        pickle.dump(models[i], file)"
   ]
  },
  {
   "cell_type": "markdown",
   "metadata": {},
   "source": [
    "Random forest:"
   ]
  },
  {
   "cell_type": "code",
   "execution_count": null,
   "metadata": {},
   "outputs": [
    {
     "name": "stdout",
     "output_type": "stream",
     "text": [
      "Istrenirao Random forest SMOTE.\n"
     ]
    }
   ],
   "source": [
    "parameters_rf = {\n",
    "    'n_estimators': list(range(1,21,2)),\n",
    "    'max_features': list(range(1,18))\n",
    "    }\n",
    "grid_search_rf = GridSearchCV(RandomForestClassifier(random_state=2018), parameters_rf, cv=3)\n",
    "\n",
    "models = []\n",
    "models.append(best_model_oversampling(grid_search_rf, X_train, y_train, SMOTE()))\n",
    "print(\"Istrenirao Random forest SMOTE.\")\n",
    "models.append(best_model_oversampling(grid_search_rf, X_train, y_train, BorderlineSMOTE()))\n",
    "print(\"Istrenirao Random forest BorderlineSMOTE.\")\n",
    "models.append(best_model_oversampling(grid_search_rf, X_train, y_train, ADASYN()))\n",
    "print(\"Istrenirao Random forest ADASYN.\")\n",
    "models.append(best_model(grid_search_rf, X_train, y_train))\n",
    "print(\"Istrenirao Random forest bez oversamplinga.\")\n",
    "\n",
    "pkl_filenames = {\"rf_SMOTE.pkl\", \"rf_BorderlineSMOTE.pkl\", \"rf_ADASYN.pkl\", \"rf_obicni.pkl\"}  \n",
    "\n",
    "for i in range(4):\n",
    "    with open(pkl_filenames[i], 'wb') as file:  \n",
    "        pickle.dump(models[i], file)"
   ]
  }
 ],
 "metadata": {
  "kernelspec": {
   "display_name": "Python 3",
   "language": "python",
   "name": "python3"
  },
  "language_info": {
   "codemirror_mode": {
    "name": "ipython",
    "version": 3
   },
   "file_extension": ".py",
   "mimetype": "text/x-python",
   "name": "python",
   "nbconvert_exporter": "python",
   "pygments_lexer": "ipython3",
   "version": "3.7.1"
  }
 },
 "nbformat": 4,
 "nbformat_minor": 2
}
