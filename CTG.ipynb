{
 "cells": [
  {
   "cell_type": "markdown",
   "metadata": {},
   "source": [
    "## Klasifikacija zdravlja fetusa na temelju kardiotokografije"
   ]
  },
  {
   "cell_type": "markdown",
   "metadata": {},
   "source": [
    "### Projekt u sklopu predmeta Strojno učenje"
   ]
  },
  {
   "cell_type": "markdown",
   "metadata": {},
   "source": [
    "Učitavanje podataka:"
   ]
  },
  {
   "cell_type": "code",
   "execution_count": 1,
   "metadata": {},
   "outputs": [],
   "source": [
    "import pandas as pd"
   ]
  },
  {
   "cell_type": "code",
   "execution_count": 2,
   "metadata": {},
   "outputs": [],
   "source": [
    "#imena stupaca u CTG.xls koje ćemo koristiti\n",
    "column_names = ['LB', 'AC', 'FM', 'UC', 'DL', 'DS', 'DP', 'ASTV', 'MSTV', 'ALTV', 'MLTV', 'Width', 'Min', 'Max',\n",
    "                   'Nmax', 'Nzeros', 'Mode', 'Mean', 'Median', 'Variance', 'Tendency', 'NSP']\n",
    "\n",
    "#stupci koji sadrže int vrijednosti, samo za ljepši ispis\n",
    "int_columns = ['LB' ,'ASTV' ,'ALTV' ,'Width' ,'Min' ,'Max' ,'Nmax' ,'Nzeros' ,'Mode' ,'Mean' ,'Median' ,'Variance',\n",
    "               'Tendency', 'NSP']"
   ]
  },
  {
   "cell_type": "code",
   "execution_count": 3,
   "metadata": {},
   "outputs": [],
   "source": [
    "data = pd.read_excel('CTG.xls', sheet_name = 'Data', skiprows = 1, \n",
    "                     usecols = [10, 11, 12, 13, 14, 15, 16, 17, 18, 19, 20, 21, 22, 23, 24, 25, 26, 27, 28, 29, 30, 45]\n",
    "                     , names = column_names)\n",
    "\n",
    "#izbacujemo sve retke u kojima je barem jedna varijabla nepoznata (NaN)\n",
    "data = data.dropna()\n",
    "\n",
    "for col in int_columns:\n",
    "    data[col] = (data[col]).astype(int)"
   ]
  },
  {
   "cell_type": "code",
   "execution_count": 4,
   "metadata": {},
   "outputs": [
    {
     "data": {
      "text/html": [
       "<div>\n",
       "<style scoped>\n",
       "    .dataframe tbody tr th:only-of-type {\n",
       "        vertical-align: middle;\n",
       "    }\n",
       "\n",
       "    .dataframe tbody tr th {\n",
       "        vertical-align: top;\n",
       "    }\n",
       "\n",
       "    .dataframe thead th {\n",
       "        text-align: right;\n",
       "    }\n",
       "</style>\n",
       "<table border=\"1\" class=\"dataframe\">\n",
       "  <thead>\n",
       "    <tr style=\"text-align: right;\">\n",
       "      <th></th>\n",
       "      <th>LB</th>\n",
       "      <th>AC</th>\n",
       "      <th>FM</th>\n",
       "      <th>UC</th>\n",
       "      <th>DL</th>\n",
       "      <th>DS</th>\n",
       "      <th>DP</th>\n",
       "      <th>ASTV</th>\n",
       "      <th>MSTV</th>\n",
       "      <th>ALTV</th>\n",
       "      <th>...</th>\n",
       "      <th>Min</th>\n",
       "      <th>Max</th>\n",
       "      <th>Nmax</th>\n",
       "      <th>Nzeros</th>\n",
       "      <th>Mode</th>\n",
       "      <th>Mean</th>\n",
       "      <th>Median</th>\n",
       "      <th>Variance</th>\n",
       "      <th>Tendency</th>\n",
       "      <th>NSP</th>\n",
       "    </tr>\n",
       "  </thead>\n",
       "  <tbody>\n",
       "    <tr>\n",
       "      <th>0</th>\n",
       "      <td>120</td>\n",
       "      <td>0.000000</td>\n",
       "      <td>0.000000</td>\n",
       "      <td>0.000000</td>\n",
       "      <td>0.000000</td>\n",
       "      <td>0.0</td>\n",
       "      <td>0.000000</td>\n",
       "      <td>73</td>\n",
       "      <td>0.5</td>\n",
       "      <td>43</td>\n",
       "      <td>...</td>\n",
       "      <td>62</td>\n",
       "      <td>126</td>\n",
       "      <td>2</td>\n",
       "      <td>0</td>\n",
       "      <td>120</td>\n",
       "      <td>137</td>\n",
       "      <td>121</td>\n",
       "      <td>73</td>\n",
       "      <td>1</td>\n",
       "      <td>2</td>\n",
       "    </tr>\n",
       "    <tr>\n",
       "      <th>1</th>\n",
       "      <td>132</td>\n",
       "      <td>0.006380</td>\n",
       "      <td>0.000000</td>\n",
       "      <td>0.006380</td>\n",
       "      <td>0.003190</td>\n",
       "      <td>0.0</td>\n",
       "      <td>0.000000</td>\n",
       "      <td>17</td>\n",
       "      <td>2.1</td>\n",
       "      <td>0</td>\n",
       "      <td>...</td>\n",
       "      <td>68</td>\n",
       "      <td>198</td>\n",
       "      <td>6</td>\n",
       "      <td>1</td>\n",
       "      <td>141</td>\n",
       "      <td>136</td>\n",
       "      <td>140</td>\n",
       "      <td>12</td>\n",
       "      <td>0</td>\n",
       "      <td>1</td>\n",
       "    </tr>\n",
       "    <tr>\n",
       "      <th>2</th>\n",
       "      <td>133</td>\n",
       "      <td>0.003322</td>\n",
       "      <td>0.000000</td>\n",
       "      <td>0.008306</td>\n",
       "      <td>0.003322</td>\n",
       "      <td>0.0</td>\n",
       "      <td>0.000000</td>\n",
       "      <td>16</td>\n",
       "      <td>2.1</td>\n",
       "      <td>0</td>\n",
       "      <td>...</td>\n",
       "      <td>68</td>\n",
       "      <td>198</td>\n",
       "      <td>5</td>\n",
       "      <td>1</td>\n",
       "      <td>141</td>\n",
       "      <td>135</td>\n",
       "      <td>138</td>\n",
       "      <td>13</td>\n",
       "      <td>0</td>\n",
       "      <td>1</td>\n",
       "    </tr>\n",
       "    <tr>\n",
       "      <th>3</th>\n",
       "      <td>134</td>\n",
       "      <td>0.002561</td>\n",
       "      <td>0.000000</td>\n",
       "      <td>0.007682</td>\n",
       "      <td>0.002561</td>\n",
       "      <td>0.0</td>\n",
       "      <td>0.000000</td>\n",
       "      <td>16</td>\n",
       "      <td>2.4</td>\n",
       "      <td>0</td>\n",
       "      <td>...</td>\n",
       "      <td>53</td>\n",
       "      <td>170</td>\n",
       "      <td>11</td>\n",
       "      <td>0</td>\n",
       "      <td>137</td>\n",
       "      <td>134</td>\n",
       "      <td>137</td>\n",
       "      <td>13</td>\n",
       "      <td>1</td>\n",
       "      <td>1</td>\n",
       "    </tr>\n",
       "    <tr>\n",
       "      <th>4</th>\n",
       "      <td>132</td>\n",
       "      <td>0.006515</td>\n",
       "      <td>0.000000</td>\n",
       "      <td>0.008143</td>\n",
       "      <td>0.000000</td>\n",
       "      <td>0.0</td>\n",
       "      <td>0.000000</td>\n",
       "      <td>16</td>\n",
       "      <td>2.4</td>\n",
       "      <td>0</td>\n",
       "      <td>...</td>\n",
       "      <td>53</td>\n",
       "      <td>170</td>\n",
       "      <td>9</td>\n",
       "      <td>0</td>\n",
       "      <td>137</td>\n",
       "      <td>136</td>\n",
       "      <td>138</td>\n",
       "      <td>11</td>\n",
       "      <td>1</td>\n",
       "      <td>1</td>\n",
       "    </tr>\n",
       "    <tr>\n",
       "      <th>5</th>\n",
       "      <td>134</td>\n",
       "      <td>0.001049</td>\n",
       "      <td>0.000000</td>\n",
       "      <td>0.010493</td>\n",
       "      <td>0.009444</td>\n",
       "      <td>0.0</td>\n",
       "      <td>0.002099</td>\n",
       "      <td>26</td>\n",
       "      <td>5.9</td>\n",
       "      <td>0</td>\n",
       "      <td>...</td>\n",
       "      <td>50</td>\n",
       "      <td>200</td>\n",
       "      <td>5</td>\n",
       "      <td>3</td>\n",
       "      <td>76</td>\n",
       "      <td>107</td>\n",
       "      <td>107</td>\n",
       "      <td>170</td>\n",
       "      <td>0</td>\n",
       "      <td>3</td>\n",
       "    </tr>\n",
       "    <tr>\n",
       "      <th>6</th>\n",
       "      <td>134</td>\n",
       "      <td>0.001403</td>\n",
       "      <td>0.000000</td>\n",
       "      <td>0.012623</td>\n",
       "      <td>0.008415</td>\n",
       "      <td>0.0</td>\n",
       "      <td>0.002805</td>\n",
       "      <td>29</td>\n",
       "      <td>6.3</td>\n",
       "      <td>0</td>\n",
       "      <td>...</td>\n",
       "      <td>50</td>\n",
       "      <td>200</td>\n",
       "      <td>6</td>\n",
       "      <td>3</td>\n",
       "      <td>71</td>\n",
       "      <td>107</td>\n",
       "      <td>106</td>\n",
       "      <td>215</td>\n",
       "      <td>0</td>\n",
       "      <td>3</td>\n",
       "    </tr>\n",
       "    <tr>\n",
       "      <th>7</th>\n",
       "      <td>122</td>\n",
       "      <td>0.000000</td>\n",
       "      <td>0.000000</td>\n",
       "      <td>0.000000</td>\n",
       "      <td>0.000000</td>\n",
       "      <td>0.0</td>\n",
       "      <td>0.000000</td>\n",
       "      <td>83</td>\n",
       "      <td>0.5</td>\n",
       "      <td>6</td>\n",
       "      <td>...</td>\n",
       "      <td>62</td>\n",
       "      <td>130</td>\n",
       "      <td>0</td>\n",
       "      <td>0</td>\n",
       "      <td>122</td>\n",
       "      <td>122</td>\n",
       "      <td>123</td>\n",
       "      <td>3</td>\n",
       "      <td>1</td>\n",
       "      <td>3</td>\n",
       "    </tr>\n",
       "    <tr>\n",
       "      <th>8</th>\n",
       "      <td>122</td>\n",
       "      <td>0.000000</td>\n",
       "      <td>0.000000</td>\n",
       "      <td>0.001517</td>\n",
       "      <td>0.000000</td>\n",
       "      <td>0.0</td>\n",
       "      <td>0.000000</td>\n",
       "      <td>84</td>\n",
       "      <td>0.5</td>\n",
       "      <td>5</td>\n",
       "      <td>...</td>\n",
       "      <td>62</td>\n",
       "      <td>130</td>\n",
       "      <td>0</td>\n",
       "      <td>0</td>\n",
       "      <td>122</td>\n",
       "      <td>122</td>\n",
       "      <td>123</td>\n",
       "      <td>3</td>\n",
       "      <td>1</td>\n",
       "      <td>3</td>\n",
       "    </tr>\n",
       "    <tr>\n",
       "      <th>9</th>\n",
       "      <td>122</td>\n",
       "      <td>0.000000</td>\n",
       "      <td>0.000000</td>\n",
       "      <td>0.002967</td>\n",
       "      <td>0.000000</td>\n",
       "      <td>0.0</td>\n",
       "      <td>0.000000</td>\n",
       "      <td>86</td>\n",
       "      <td>0.3</td>\n",
       "      <td>6</td>\n",
       "      <td>...</td>\n",
       "      <td>62</td>\n",
       "      <td>130</td>\n",
       "      <td>1</td>\n",
       "      <td>0</td>\n",
       "      <td>122</td>\n",
       "      <td>122</td>\n",
       "      <td>123</td>\n",
       "      <td>1</td>\n",
       "      <td>1</td>\n",
       "      <td>3</td>\n",
       "    </tr>\n",
       "    <tr>\n",
       "      <th>10</th>\n",
       "      <td>151</td>\n",
       "      <td>0.000000</td>\n",
       "      <td>0.000000</td>\n",
       "      <td>0.000834</td>\n",
       "      <td>0.000834</td>\n",
       "      <td>0.0</td>\n",
       "      <td>0.000000</td>\n",
       "      <td>64</td>\n",
       "      <td>1.9</td>\n",
       "      <td>9</td>\n",
       "      <td>...</td>\n",
       "      <td>56</td>\n",
       "      <td>186</td>\n",
       "      <td>2</td>\n",
       "      <td>0</td>\n",
       "      <td>150</td>\n",
       "      <td>148</td>\n",
       "      <td>151</td>\n",
       "      <td>9</td>\n",
       "      <td>1</td>\n",
       "      <td>2</td>\n",
       "    </tr>\n",
       "    <tr>\n",
       "      <th>11</th>\n",
       "      <td>150</td>\n",
       "      <td>0.000000</td>\n",
       "      <td>0.000000</td>\n",
       "      <td>0.000983</td>\n",
       "      <td>0.000983</td>\n",
       "      <td>0.0</td>\n",
       "      <td>0.000000</td>\n",
       "      <td>64</td>\n",
       "      <td>2.0</td>\n",
       "      <td>8</td>\n",
       "      <td>...</td>\n",
       "      <td>56</td>\n",
       "      <td>186</td>\n",
       "      <td>5</td>\n",
       "      <td>0</td>\n",
       "      <td>150</td>\n",
       "      <td>148</td>\n",
       "      <td>151</td>\n",
       "      <td>10</td>\n",
       "      <td>1</td>\n",
       "      <td>2</td>\n",
       "    </tr>\n",
       "    <tr>\n",
       "      <th>12</th>\n",
       "      <td>131</td>\n",
       "      <td>0.005076</td>\n",
       "      <td>0.072335</td>\n",
       "      <td>0.007614</td>\n",
       "      <td>0.002538</td>\n",
       "      <td>0.0</td>\n",
       "      <td>0.000000</td>\n",
       "      <td>28</td>\n",
       "      <td>1.4</td>\n",
       "      <td>0</td>\n",
       "      <td>...</td>\n",
       "      <td>88</td>\n",
       "      <td>154</td>\n",
       "      <td>5</td>\n",
       "      <td>0</td>\n",
       "      <td>135</td>\n",
       "      <td>134</td>\n",
       "      <td>137</td>\n",
       "      <td>7</td>\n",
       "      <td>1</td>\n",
       "      <td>1</td>\n",
       "    </tr>\n",
       "    <tr>\n",
       "      <th>13</th>\n",
       "      <td>131</td>\n",
       "      <td>0.009077</td>\n",
       "      <td>0.222390</td>\n",
       "      <td>0.006051</td>\n",
       "      <td>0.001513</td>\n",
       "      <td>0.0</td>\n",
       "      <td>0.000000</td>\n",
       "      <td>28</td>\n",
       "      <td>1.5</td>\n",
       "      <td>0</td>\n",
       "      <td>...</td>\n",
       "      <td>71</td>\n",
       "      <td>158</td>\n",
       "      <td>2</td>\n",
       "      <td>0</td>\n",
       "      <td>141</td>\n",
       "      <td>137</td>\n",
       "      <td>141</td>\n",
       "      <td>10</td>\n",
       "      <td>1</td>\n",
       "      <td>1</td>\n",
       "    </tr>\n",
       "    <tr>\n",
       "      <th>14</th>\n",
       "      <td>130</td>\n",
       "      <td>0.005838</td>\n",
       "      <td>0.407840</td>\n",
       "      <td>0.004170</td>\n",
       "      <td>0.005004</td>\n",
       "      <td>0.0</td>\n",
       "      <td>0.000834</td>\n",
       "      <td>21</td>\n",
       "      <td>2.3</td>\n",
       "      <td>0</td>\n",
       "      <td>...</td>\n",
       "      <td>67</td>\n",
       "      <td>174</td>\n",
       "      <td>7</td>\n",
       "      <td>0</td>\n",
       "      <td>143</td>\n",
       "      <td>125</td>\n",
       "      <td>135</td>\n",
       "      <td>76</td>\n",
       "      <td>0</td>\n",
       "      <td>1</td>\n",
       "    </tr>\n",
       "  </tbody>\n",
       "</table>\n",
       "<p>15 rows × 22 columns</p>\n",
       "</div>"
      ],
      "text/plain": [
       "     LB        AC        FM        UC        DL   DS        DP  ASTV  MSTV  \\\n",
       "0   120  0.000000  0.000000  0.000000  0.000000  0.0  0.000000    73   0.5   \n",
       "1   132  0.006380  0.000000  0.006380  0.003190  0.0  0.000000    17   2.1   \n",
       "2   133  0.003322  0.000000  0.008306  0.003322  0.0  0.000000    16   2.1   \n",
       "3   134  0.002561  0.000000  0.007682  0.002561  0.0  0.000000    16   2.4   \n",
       "4   132  0.006515  0.000000  0.008143  0.000000  0.0  0.000000    16   2.4   \n",
       "5   134  0.001049  0.000000  0.010493  0.009444  0.0  0.002099    26   5.9   \n",
       "6   134  0.001403  0.000000  0.012623  0.008415  0.0  0.002805    29   6.3   \n",
       "7   122  0.000000  0.000000  0.000000  0.000000  0.0  0.000000    83   0.5   \n",
       "8   122  0.000000  0.000000  0.001517  0.000000  0.0  0.000000    84   0.5   \n",
       "9   122  0.000000  0.000000  0.002967  0.000000  0.0  0.000000    86   0.3   \n",
       "10  151  0.000000  0.000000  0.000834  0.000834  0.0  0.000000    64   1.9   \n",
       "11  150  0.000000  0.000000  0.000983  0.000983  0.0  0.000000    64   2.0   \n",
       "12  131  0.005076  0.072335  0.007614  0.002538  0.0  0.000000    28   1.4   \n",
       "13  131  0.009077  0.222390  0.006051  0.001513  0.0  0.000000    28   1.5   \n",
       "14  130  0.005838  0.407840  0.004170  0.005004  0.0  0.000834    21   2.3   \n",
       "\n",
       "    ALTV ...   Min  Max  Nmax  Nzeros  Mode  Mean  Median  Variance  Tendency  \\\n",
       "0     43 ...    62  126     2       0   120   137     121        73         1   \n",
       "1      0 ...    68  198     6       1   141   136     140        12         0   \n",
       "2      0 ...    68  198     5       1   141   135     138        13         0   \n",
       "3      0 ...    53  170    11       0   137   134     137        13         1   \n",
       "4      0 ...    53  170     9       0   137   136     138        11         1   \n",
       "5      0 ...    50  200     5       3    76   107     107       170         0   \n",
       "6      0 ...    50  200     6       3    71   107     106       215         0   \n",
       "7      6 ...    62  130     0       0   122   122     123         3         1   \n",
       "8      5 ...    62  130     0       0   122   122     123         3         1   \n",
       "9      6 ...    62  130     1       0   122   122     123         1         1   \n",
       "10     9 ...    56  186     2       0   150   148     151         9         1   \n",
       "11     8 ...    56  186     5       0   150   148     151        10         1   \n",
       "12     0 ...    88  154     5       0   135   134     137         7         1   \n",
       "13     0 ...    71  158     2       0   141   137     141        10         1   \n",
       "14     0 ...    67  174     7       0   143   125     135        76         0   \n",
       "\n",
       "    NSP  \n",
       "0     2  \n",
       "1     1  \n",
       "2     1  \n",
       "3     1  \n",
       "4     1  \n",
       "5     3  \n",
       "6     3  \n",
       "7     3  \n",
       "8     3  \n",
       "9     3  \n",
       "10    2  \n",
       "11    2  \n",
       "12    1  \n",
       "13    1  \n",
       "14    1  \n",
       "\n",
       "[15 rows x 22 columns]"
      ]
     },
     "execution_count": 4,
     "metadata": {},
     "output_type": "execute_result"
    }
   ],
   "source": [
    "data.head(15)"
   ]
  },
  {
   "cell_type": "code",
   "execution_count": 5,
   "metadata": {},
   "outputs": [],
   "source": [
    "X = data.iloc[:,:-1].values # podaci bez NSP dijagnoze\n",
    "y = data.iloc[:,-1].values # NSP dijagnoza"
   ]
  },
  {
   "cell_type": "markdown",
   "metadata": {},
   "source": [
    "Standarizacija podataka:"
   ]
  },
  {
   "cell_type": "code",
   "execution_count": 6,
   "metadata": {},
   "outputs": [
    {
     "data": {
      "text/plain": [
       "array([[-1.35222005, -0.82140279, -0.20304786, ..., -1.18164215,\n",
       "         1.87056871,  1.11298001],\n",
       "       [-0.1325256 ,  0.8318261 , -0.20304786, ...,  0.13203796,\n",
       "        -0.23499819, -0.52452553],\n",
       "       [-0.03088439,  0.0395395 , -0.20304786, ..., -0.00624416,\n",
       "        -0.2004807 , -0.52452553],\n",
       "       ...,\n",
       "       [ 0.68060404, -0.56734041, -0.20304786, ...,  0.96173066,\n",
       "        -0.51113811,  1.11298001],\n",
       "       [ 0.68060404, -0.64547365, -0.20304786, ...,  0.8925896 ,\n",
       "        -0.51113811,  1.11298001],\n",
       "       [ 0.88388645, -0.40275396, -0.16842402, ...,  0.47774325,\n",
       "        -0.61469058, -0.52452553]])"
      ]
     },
     "execution_count": 6,
     "metadata": {},
     "output_type": "execute_result"
    }
   ],
   "source": [
    "from sklearn.preprocessing import StandardScaler\n",
    "sc = StandardScaler()\n",
    "sc.fit_transform( X )"
   ]
  },
  {
   "cell_type": "markdown",
   "metadata": {},
   "source": [
    "Testiranje nekoliko modela na nepromijenjenim podacima (prije oversamplinga/undesamplinga):"
   ]
  },
  {
   "cell_type": "markdown",
   "metadata": {},
   "source": [
    "XGBoost s 5-fold stratified cross-validation(sačuvan omjer klasa u svim podskupovima podataka):"
   ]
  },
  {
   "cell_type": "code",
   "execution_count": 71,
   "metadata": {},
   "outputs": [
    {
     "name": "stdout",
     "output_type": "stream",
     "text": [
      "Točnost XGBoost modela: 94.87% (standardna devijacija 0.94%)\n"
     ]
    }
   ],
   "source": [
    "import xgboost as xgb\n",
    "from sklearn.model_selection import StratifiedKFold # koristit ćemo 5-fold stratified cross-validation\n",
    "from sklearn.model_selection import cross_val_score\n",
    "\n",
    "xgb = xgb.XGBClassifier()\n",
    "skfold = KFold(n_splits = 5, shuffle = True, random_state = 7) \n",
    "# I suggest you select a random state value at random and use it for all your experiments. \n",
    "xgb_results = cross_val_score(xgb, X, y, cv = skfold)\n",
    "# The fitting will be done inside the cross_val_score function, you don't need to worry about this beforehand.\n",
    "# But if you want to use the model afterwards, you will need to fit() on the whole data again.\n",
    "print(\"Točnost XGBoost modela: %.2f%% (standardna devijacija %.2f%%)\" % (xgb_results.mean()*100, xgb_results.std()*100))"
   ]
  },
  {
   "cell_type": "markdown",
   "metadata": {},
   "source": [
    "Prosjek recall-a za patološku klasu (ako se koristi stratifikacija, prosjek recall-a je OK):"
   ]
  },
  {
   "cell_type": "code",
   "execution_count": 72,
   "metadata": {},
   "outputs": [
    {
     "name": "stdout",
     "output_type": "stream",
     "text": [
      "Recall za patološku klasu s XGBoost: 91.82% \n"
     ]
    }
   ],
   "source": [
    "import numpy as np\n",
    "xgb_recall = 0\n",
    "for train_index, test_index in skfold.split(X,y):\n",
    "    X_train, X_test = X[train_index], X[test_index]\n",
    "    y_train, y_test = y[train_index], y[test_index]\n",
    "    xgb.fit(X_train, y_train)\n",
    "    xgb_recall = xgb_recall + (recall_score(y_test, xgb.predict(X_test), average=None))[2]\n",
    "xgb_recall = ( xgb_recall / 5 ) * 100\n",
    "print(\"Recall za patološku klasu s XGBoost: %.2f%% \" % xgb_recall)"
   ]
  },
  {
   "cell_type": "code",
   "execution_count": 78,
   "metadata": {},
   "outputs": [],
   "source": [
    "# konfuzijske matrice za svaki od 5 podskupova:\n",
    "#from sklearn.metrics import confusion_matrix\n",
    "#for train_index, test_index in skfold.split(X,y):\n",
    "#    X_train, X_test = X[train_index], X[test_index]\n",
    "#    y_train, y_test = y[train_index], y[test_index]\n",
    "#    xgb.fit(X_train, y_train)\n",
    "#    print(confusion_matrix(y_test, xgb.predict(X_test)))\n",
    "#    print(\"Recall za patološku klasu %f\" % (recall_score(y_test, xgb.predict(X_test), average=None))[2])"
   ]
  },
  {
   "cell_type": "markdown",
   "metadata": {},
   "source": [
    "Dalje ćemo u svim modelima koristiti 5-fold stratified cross-validation."
   ]
  },
  {
   "cell_type": "markdown",
   "metadata": {},
   "source": [
    "SVC s 5-fold stratified cross-validation:"
   ]
  },
  {
   "cell_type": "code",
   "execution_count": 73,
   "metadata": {},
   "outputs": [
    {
     "name": "stdout",
     "output_type": "stream",
     "text": [
      "Točnost SVC modela: 88.76% (standardna devijacija 0.62%)\n"
     ]
    }
   ],
   "source": [
    "from sklearn.svm import SVC \n",
    "svc = SVC(kernel = 'linear', random_state = 7)\n",
    "svc_results = cross_val_score(svc, X, y, cv = skfold)\n",
    "print(\"Točnost SVC modela: %.2f%% (standardna devijacija %.2f%%)\" % (svc_results.mean()*100, svc_results.std()*100))"
   ]
  },
  {
   "cell_type": "markdown",
   "metadata": {},
   "source": [
    "Prosjek recall-a za patološku klasu:"
   ]
  },
  {
   "cell_type": "code",
   "execution_count": 74,
   "metadata": {},
   "outputs": [
    {
     "name": "stdout",
     "output_type": "stream",
     "text": [
      "Recall za patološku klasu s XGBoost: 77.84% \n"
     ]
    }
   ],
   "source": [
    "svc_recall = 0\n",
    "for train_index, test_index in skfold.split(X,y):\n",
    "    X_train, X_test = X[train_index], X[test_index]\n",
    "    y_train, y_test = y[train_index], y[test_index]\n",
    "    svc.fit(X_train, y_train)\n",
    "    svc_recall = svc_recall + (recall_score(y_test, svc.predict(X_test), average=None))[2]\n",
    "svc_recall = ( svc_recall / 5 ) * 100\n",
    "print(\"Recall za patološku klasu s XGBoost: %.2f%% \" % svc_recall)"
   ]
  },
  {
   "cell_type": "markdown",
   "metadata": {},
   "source": [
    "Random forest:"
   ]
  },
  {
   "cell_type": "code",
   "execution_count": 76,
   "metadata": {},
   "outputs": [
    {
     "name": "stdout",
     "output_type": "stream",
     "text": [
      "Točnost Random Forest modela: 94.12% (standardna devijacija 1.27%)\n"
     ]
    }
   ],
   "source": [
    "from sklearn.ensemble import RandomForestClassifier\n",
    "rf = RandomForestClassifier(bootstrap=True, class_weight=None, criterion='entropy',\n",
    "            max_depth=None, max_features=21, max_leaf_nodes=None,\n",
    "            min_impurity_decrease=1e-07, min_samples_leaf=3,\n",
    "            min_samples_split=2, min_weight_fraction_leaf=0.0,\n",
    "            n_estimators=10, n_jobs=10, oob_score=False, random_state=100,\n",
    "            verbose=0, warm_start=False)\n",
    "rf_results = cross_val_score(rf, X, y, cv = skfold)\n",
    "print(\"Točnost Random Forest modela: %.2f%% (standardna devijacija %.2f%%)\" %(rf_results.mean()*100, rf_results.std()*100))"
   ]
  },
  {
   "cell_type": "markdown",
   "metadata": {},
   "source": [
    "Prosjek recall-a za patološku klasu:"
   ]
  },
  {
   "cell_type": "code",
   "execution_count": 77,
   "metadata": {},
   "outputs": [
    {
     "name": "stdout",
     "output_type": "stream",
     "text": [
      "Recall za patološku klasu s Random Forest: 92.31% \n"
     ]
    }
   ],
   "source": [
    "rf_recall = 0\n",
    "for train_index, test_index in skfold.split(X,y):\n",
    "    X_train, X_test = X[train_index], X[test_index]\n",
    "    y_train, y_test = y[train_index], y[test_index]\n",
    "    rf.fit(X_train, y_train)\n",
    "    rf_recall = rf_recall + (recall_score(y_test, rf.predict(X_test), average=None))[2]\n",
    "rf_recall = ( rf_recall / 5 ) * 100\n",
    "print(\"Recall za patološku klasu s Random Forest: %.2f%% \" % rf_recall)"
   ]
  }
 ],
 "metadata": {
  "kernelspec": {
   "display_name": "Python 3",
   "language": "python",
   "name": "python3"
  },
  "language_info": {
   "codemirror_mode": {
    "name": "ipython",
    "version": 3
   },
   "file_extension": ".py",
   "mimetype": "text/x-python",
   "name": "python",
   "nbconvert_exporter": "python",
   "pygments_lexer": "ipython3",
   "version": "3.7.1"
  }
 },
 "nbformat": 4,
 "nbformat_minor": 2
}
