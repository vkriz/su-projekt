{
 "cells": [
  {
   "cell_type": "code",
   "execution_count": 1,
   "metadata": {},
   "outputs": [],
   "source": [
    "import pandas as pd"
   ]
  },
  {
   "cell_type": "code",
   "execution_count": 2,
   "metadata": {},
   "outputs": [],
   "source": [
    "#imena stupaca u CTG.xls koje ćemo koristiti\n",
    "column_names = ['LB', 'AC', 'FM', 'UC', 'DL', 'DS', 'DP', 'ASTV', 'MSTV', 'ALTV', 'MLTV', 'Width', 'Min', 'Max',\n",
    "                   'Nmax', 'Nzeros', 'Mode', 'Mean', 'Median', 'Variance', 'Tendency', 'NSP']\n",
    "\n",
    "#stupci koji sadrže int vrijednosti, samo za ljepši ispis\n",
    "int_columns = ['LB' ,'ASTV' ,'ALTV' ,'Width' ,'Min' ,'Max' ,'Nmax' ,'Nzeros' ,'Mode' ,'Mean' ,'Median' ,'Variance',\n",
    "               'Tendency', 'NSP']"
   ]
  },
  {
   "cell_type": "code",
   "execution_count": 3,
   "metadata": {},
   "outputs": [],
   "source": [
    "data = pd.read_excel('CTG.xls', sheet_name = 'Data', skiprows = 1, \n",
    "                     usecols = [10, 11, 12, 13, 14, 15, 16, 17, 18, 19, 20, 21, 22, 23, 24, 25, 26, 27, 28, 29, 30, 45]\n",
    "                     , names = column_names)\n",
    "\n",
    "#izbacujemo sve retke u kojima je barem jedna varijabla nepoznata (NaN)\n",
    "data = data.dropna()\n",
    "\n",
    "for col in int_columns:\n",
    "    data[col] = (data[col]).astype(int)"
   ]
  },
  {
   "cell_type": "code",
   "execution_count": 56,
   "metadata": {},
   "outputs": [
    {
     "data": {
      "text/html": [
       "<div>\n",
       "<style scoped>\n",
       "    .dataframe tbody tr th:only-of-type {\n",
       "        vertical-align: middle;\n",
       "    }\n",
       "\n",
       "    .dataframe tbody tr th {\n",
       "        vertical-align: top;\n",
       "    }\n",
       "\n",
       "    .dataframe thead th {\n",
       "        text-align: right;\n",
       "    }\n",
       "</style>\n",
       "<table border=\"1\" class=\"dataframe\">\n",
       "  <thead>\n",
       "    <tr style=\"text-align: right;\">\n",
       "      <th></th>\n",
       "      <th>LB</th>\n",
       "      <th>AC</th>\n",
       "      <th>FM</th>\n",
       "      <th>UC</th>\n",
       "      <th>DL</th>\n",
       "      <th>DS</th>\n",
       "      <th>DP</th>\n",
       "      <th>ASTV</th>\n",
       "      <th>MSTV</th>\n",
       "      <th>ALTV</th>\n",
       "      <th>...</th>\n",
       "      <th>Min</th>\n",
       "      <th>Max</th>\n",
       "      <th>Nmax</th>\n",
       "      <th>Nzeros</th>\n",
       "      <th>Mode</th>\n",
       "      <th>Mean</th>\n",
       "      <th>Median</th>\n",
       "      <th>Variance</th>\n",
       "      <th>Tendency</th>\n",
       "      <th>NSP</th>\n",
       "    </tr>\n",
       "  </thead>\n",
       "  <tbody>\n",
       "    <tr>\n",
       "      <th>0</th>\n",
       "      <td>120</td>\n",
       "      <td>0.000000</td>\n",
       "      <td>0.000000</td>\n",
       "      <td>0.000000</td>\n",
       "      <td>0.000000</td>\n",
       "      <td>0.0</td>\n",
       "      <td>0.000000</td>\n",
       "      <td>73</td>\n",
       "      <td>0.5</td>\n",
       "      <td>43</td>\n",
       "      <td>...</td>\n",
       "      <td>62</td>\n",
       "      <td>126</td>\n",
       "      <td>2</td>\n",
       "      <td>0</td>\n",
       "      <td>120</td>\n",
       "      <td>137</td>\n",
       "      <td>121</td>\n",
       "      <td>73</td>\n",
       "      <td>1</td>\n",
       "      <td>2</td>\n",
       "    </tr>\n",
       "    <tr>\n",
       "      <th>1</th>\n",
       "      <td>132</td>\n",
       "      <td>0.006380</td>\n",
       "      <td>0.000000</td>\n",
       "      <td>0.006380</td>\n",
       "      <td>0.003190</td>\n",
       "      <td>0.0</td>\n",
       "      <td>0.000000</td>\n",
       "      <td>17</td>\n",
       "      <td>2.1</td>\n",
       "      <td>0</td>\n",
       "      <td>...</td>\n",
       "      <td>68</td>\n",
       "      <td>198</td>\n",
       "      <td>6</td>\n",
       "      <td>1</td>\n",
       "      <td>141</td>\n",
       "      <td>136</td>\n",
       "      <td>140</td>\n",
       "      <td>12</td>\n",
       "      <td>0</td>\n",
       "      <td>1</td>\n",
       "    </tr>\n",
       "    <tr>\n",
       "      <th>2</th>\n",
       "      <td>133</td>\n",
       "      <td>0.003322</td>\n",
       "      <td>0.000000</td>\n",
       "      <td>0.008306</td>\n",
       "      <td>0.003322</td>\n",
       "      <td>0.0</td>\n",
       "      <td>0.000000</td>\n",
       "      <td>16</td>\n",
       "      <td>2.1</td>\n",
       "      <td>0</td>\n",
       "      <td>...</td>\n",
       "      <td>68</td>\n",
       "      <td>198</td>\n",
       "      <td>5</td>\n",
       "      <td>1</td>\n",
       "      <td>141</td>\n",
       "      <td>135</td>\n",
       "      <td>138</td>\n",
       "      <td>13</td>\n",
       "      <td>0</td>\n",
       "      <td>1</td>\n",
       "    </tr>\n",
       "    <tr>\n",
       "      <th>3</th>\n",
       "      <td>134</td>\n",
       "      <td>0.002561</td>\n",
       "      <td>0.000000</td>\n",
       "      <td>0.007682</td>\n",
       "      <td>0.002561</td>\n",
       "      <td>0.0</td>\n",
       "      <td>0.000000</td>\n",
       "      <td>16</td>\n",
       "      <td>2.4</td>\n",
       "      <td>0</td>\n",
       "      <td>...</td>\n",
       "      <td>53</td>\n",
       "      <td>170</td>\n",
       "      <td>11</td>\n",
       "      <td>0</td>\n",
       "      <td>137</td>\n",
       "      <td>134</td>\n",
       "      <td>137</td>\n",
       "      <td>13</td>\n",
       "      <td>1</td>\n",
       "      <td>1</td>\n",
       "    </tr>\n",
       "    <tr>\n",
       "      <th>4</th>\n",
       "      <td>132</td>\n",
       "      <td>0.006515</td>\n",
       "      <td>0.000000</td>\n",
       "      <td>0.008143</td>\n",
       "      <td>0.000000</td>\n",
       "      <td>0.0</td>\n",
       "      <td>0.000000</td>\n",
       "      <td>16</td>\n",
       "      <td>2.4</td>\n",
       "      <td>0</td>\n",
       "      <td>...</td>\n",
       "      <td>53</td>\n",
       "      <td>170</td>\n",
       "      <td>9</td>\n",
       "      <td>0</td>\n",
       "      <td>137</td>\n",
       "      <td>136</td>\n",
       "      <td>138</td>\n",
       "      <td>11</td>\n",
       "      <td>1</td>\n",
       "      <td>1</td>\n",
       "    </tr>\n",
       "    <tr>\n",
       "      <th>5</th>\n",
       "      <td>134</td>\n",
       "      <td>0.001049</td>\n",
       "      <td>0.000000</td>\n",
       "      <td>0.010493</td>\n",
       "      <td>0.009444</td>\n",
       "      <td>0.0</td>\n",
       "      <td>0.002099</td>\n",
       "      <td>26</td>\n",
       "      <td>5.9</td>\n",
       "      <td>0</td>\n",
       "      <td>...</td>\n",
       "      <td>50</td>\n",
       "      <td>200</td>\n",
       "      <td>5</td>\n",
       "      <td>3</td>\n",
       "      <td>76</td>\n",
       "      <td>107</td>\n",
       "      <td>107</td>\n",
       "      <td>170</td>\n",
       "      <td>0</td>\n",
       "      <td>3</td>\n",
       "    </tr>\n",
       "    <tr>\n",
       "      <th>6</th>\n",
       "      <td>134</td>\n",
       "      <td>0.001403</td>\n",
       "      <td>0.000000</td>\n",
       "      <td>0.012623</td>\n",
       "      <td>0.008415</td>\n",
       "      <td>0.0</td>\n",
       "      <td>0.002805</td>\n",
       "      <td>29</td>\n",
       "      <td>6.3</td>\n",
       "      <td>0</td>\n",
       "      <td>...</td>\n",
       "      <td>50</td>\n",
       "      <td>200</td>\n",
       "      <td>6</td>\n",
       "      <td>3</td>\n",
       "      <td>71</td>\n",
       "      <td>107</td>\n",
       "      <td>106</td>\n",
       "      <td>215</td>\n",
       "      <td>0</td>\n",
       "      <td>3</td>\n",
       "    </tr>\n",
       "    <tr>\n",
       "      <th>7</th>\n",
       "      <td>122</td>\n",
       "      <td>0.000000</td>\n",
       "      <td>0.000000</td>\n",
       "      <td>0.000000</td>\n",
       "      <td>0.000000</td>\n",
       "      <td>0.0</td>\n",
       "      <td>0.000000</td>\n",
       "      <td>83</td>\n",
       "      <td>0.5</td>\n",
       "      <td>6</td>\n",
       "      <td>...</td>\n",
       "      <td>62</td>\n",
       "      <td>130</td>\n",
       "      <td>0</td>\n",
       "      <td>0</td>\n",
       "      <td>122</td>\n",
       "      <td>122</td>\n",
       "      <td>123</td>\n",
       "      <td>3</td>\n",
       "      <td>1</td>\n",
       "      <td>3</td>\n",
       "    </tr>\n",
       "    <tr>\n",
       "      <th>8</th>\n",
       "      <td>122</td>\n",
       "      <td>0.000000</td>\n",
       "      <td>0.000000</td>\n",
       "      <td>0.001517</td>\n",
       "      <td>0.000000</td>\n",
       "      <td>0.0</td>\n",
       "      <td>0.000000</td>\n",
       "      <td>84</td>\n",
       "      <td>0.5</td>\n",
       "      <td>5</td>\n",
       "      <td>...</td>\n",
       "      <td>62</td>\n",
       "      <td>130</td>\n",
       "      <td>0</td>\n",
       "      <td>0</td>\n",
       "      <td>122</td>\n",
       "      <td>122</td>\n",
       "      <td>123</td>\n",
       "      <td>3</td>\n",
       "      <td>1</td>\n",
       "      <td>3</td>\n",
       "    </tr>\n",
       "    <tr>\n",
       "      <th>9</th>\n",
       "      <td>122</td>\n",
       "      <td>0.000000</td>\n",
       "      <td>0.000000</td>\n",
       "      <td>0.002967</td>\n",
       "      <td>0.000000</td>\n",
       "      <td>0.0</td>\n",
       "      <td>0.000000</td>\n",
       "      <td>86</td>\n",
       "      <td>0.3</td>\n",
       "      <td>6</td>\n",
       "      <td>...</td>\n",
       "      <td>62</td>\n",
       "      <td>130</td>\n",
       "      <td>1</td>\n",
       "      <td>0</td>\n",
       "      <td>122</td>\n",
       "      <td>122</td>\n",
       "      <td>123</td>\n",
       "      <td>1</td>\n",
       "      <td>1</td>\n",
       "      <td>3</td>\n",
       "    </tr>\n",
       "    <tr>\n",
       "      <th>10</th>\n",
       "      <td>151</td>\n",
       "      <td>0.000000</td>\n",
       "      <td>0.000000</td>\n",
       "      <td>0.000834</td>\n",
       "      <td>0.000834</td>\n",
       "      <td>0.0</td>\n",
       "      <td>0.000000</td>\n",
       "      <td>64</td>\n",
       "      <td>1.9</td>\n",
       "      <td>9</td>\n",
       "      <td>...</td>\n",
       "      <td>56</td>\n",
       "      <td>186</td>\n",
       "      <td>2</td>\n",
       "      <td>0</td>\n",
       "      <td>150</td>\n",
       "      <td>148</td>\n",
       "      <td>151</td>\n",
       "      <td>9</td>\n",
       "      <td>1</td>\n",
       "      <td>2</td>\n",
       "    </tr>\n",
       "    <tr>\n",
       "      <th>11</th>\n",
       "      <td>150</td>\n",
       "      <td>0.000000</td>\n",
       "      <td>0.000000</td>\n",
       "      <td>0.000983</td>\n",
       "      <td>0.000983</td>\n",
       "      <td>0.0</td>\n",
       "      <td>0.000000</td>\n",
       "      <td>64</td>\n",
       "      <td>2.0</td>\n",
       "      <td>8</td>\n",
       "      <td>...</td>\n",
       "      <td>56</td>\n",
       "      <td>186</td>\n",
       "      <td>5</td>\n",
       "      <td>0</td>\n",
       "      <td>150</td>\n",
       "      <td>148</td>\n",
       "      <td>151</td>\n",
       "      <td>10</td>\n",
       "      <td>1</td>\n",
       "      <td>2</td>\n",
       "    </tr>\n",
       "    <tr>\n",
       "      <th>12</th>\n",
       "      <td>131</td>\n",
       "      <td>0.005076</td>\n",
       "      <td>0.072335</td>\n",
       "      <td>0.007614</td>\n",
       "      <td>0.002538</td>\n",
       "      <td>0.0</td>\n",
       "      <td>0.000000</td>\n",
       "      <td>28</td>\n",
       "      <td>1.4</td>\n",
       "      <td>0</td>\n",
       "      <td>...</td>\n",
       "      <td>88</td>\n",
       "      <td>154</td>\n",
       "      <td>5</td>\n",
       "      <td>0</td>\n",
       "      <td>135</td>\n",
       "      <td>134</td>\n",
       "      <td>137</td>\n",
       "      <td>7</td>\n",
       "      <td>1</td>\n",
       "      <td>1</td>\n",
       "    </tr>\n",
       "    <tr>\n",
       "      <th>13</th>\n",
       "      <td>131</td>\n",
       "      <td>0.009077</td>\n",
       "      <td>0.222390</td>\n",
       "      <td>0.006051</td>\n",
       "      <td>0.001513</td>\n",
       "      <td>0.0</td>\n",
       "      <td>0.000000</td>\n",
       "      <td>28</td>\n",
       "      <td>1.5</td>\n",
       "      <td>0</td>\n",
       "      <td>...</td>\n",
       "      <td>71</td>\n",
       "      <td>158</td>\n",
       "      <td>2</td>\n",
       "      <td>0</td>\n",
       "      <td>141</td>\n",
       "      <td>137</td>\n",
       "      <td>141</td>\n",
       "      <td>10</td>\n",
       "      <td>1</td>\n",
       "      <td>1</td>\n",
       "    </tr>\n",
       "    <tr>\n",
       "      <th>14</th>\n",
       "      <td>130</td>\n",
       "      <td>0.005838</td>\n",
       "      <td>0.407840</td>\n",
       "      <td>0.004170</td>\n",
       "      <td>0.005004</td>\n",
       "      <td>0.0</td>\n",
       "      <td>0.000834</td>\n",
       "      <td>21</td>\n",
       "      <td>2.3</td>\n",
       "      <td>0</td>\n",
       "      <td>...</td>\n",
       "      <td>67</td>\n",
       "      <td>174</td>\n",
       "      <td>7</td>\n",
       "      <td>0</td>\n",
       "      <td>143</td>\n",
       "      <td>125</td>\n",
       "      <td>135</td>\n",
       "      <td>76</td>\n",
       "      <td>0</td>\n",
       "      <td>1</td>\n",
       "    </tr>\n",
       "  </tbody>\n",
       "</table>\n",
       "<p>15 rows × 22 columns</p>\n",
       "</div>"
      ],
      "text/plain": [
       "     LB        AC        FM        UC        DL   DS        DP  ASTV  MSTV  \\\n",
       "0   120  0.000000  0.000000  0.000000  0.000000  0.0  0.000000    73   0.5   \n",
       "1   132  0.006380  0.000000  0.006380  0.003190  0.0  0.000000    17   2.1   \n",
       "2   133  0.003322  0.000000  0.008306  0.003322  0.0  0.000000    16   2.1   \n",
       "3   134  0.002561  0.000000  0.007682  0.002561  0.0  0.000000    16   2.4   \n",
       "4   132  0.006515  0.000000  0.008143  0.000000  0.0  0.000000    16   2.4   \n",
       "5   134  0.001049  0.000000  0.010493  0.009444  0.0  0.002099    26   5.9   \n",
       "6   134  0.001403  0.000000  0.012623  0.008415  0.0  0.002805    29   6.3   \n",
       "7   122  0.000000  0.000000  0.000000  0.000000  0.0  0.000000    83   0.5   \n",
       "8   122  0.000000  0.000000  0.001517  0.000000  0.0  0.000000    84   0.5   \n",
       "9   122  0.000000  0.000000  0.002967  0.000000  0.0  0.000000    86   0.3   \n",
       "10  151  0.000000  0.000000  0.000834  0.000834  0.0  0.000000    64   1.9   \n",
       "11  150  0.000000  0.000000  0.000983  0.000983  0.0  0.000000    64   2.0   \n",
       "12  131  0.005076  0.072335  0.007614  0.002538  0.0  0.000000    28   1.4   \n",
       "13  131  0.009077  0.222390  0.006051  0.001513  0.0  0.000000    28   1.5   \n",
       "14  130  0.005838  0.407840  0.004170  0.005004  0.0  0.000834    21   2.3   \n",
       "\n",
       "    ALTV ...   Min  Max  Nmax  Nzeros  Mode  Mean  Median  Variance  Tendency  \\\n",
       "0     43 ...    62  126     2       0   120   137     121        73         1   \n",
       "1      0 ...    68  198     6       1   141   136     140        12         0   \n",
       "2      0 ...    68  198     5       1   141   135     138        13         0   \n",
       "3      0 ...    53  170    11       0   137   134     137        13         1   \n",
       "4      0 ...    53  170     9       0   137   136     138        11         1   \n",
       "5      0 ...    50  200     5       3    76   107     107       170         0   \n",
       "6      0 ...    50  200     6       3    71   107     106       215         0   \n",
       "7      6 ...    62  130     0       0   122   122     123         3         1   \n",
       "8      5 ...    62  130     0       0   122   122     123         3         1   \n",
       "9      6 ...    62  130     1       0   122   122     123         1         1   \n",
       "10     9 ...    56  186     2       0   150   148     151         9         1   \n",
       "11     8 ...    56  186     5       0   150   148     151        10         1   \n",
       "12     0 ...    88  154     5       0   135   134     137         7         1   \n",
       "13     0 ...    71  158     2       0   141   137     141        10         1   \n",
       "14     0 ...    67  174     7       0   143   125     135        76         0   \n",
       "\n",
       "    NSP  \n",
       "0     2  \n",
       "1     1  \n",
       "2     1  \n",
       "3     1  \n",
       "4     1  \n",
       "5     3  \n",
       "6     3  \n",
       "7     3  \n",
       "8     3  \n",
       "9     3  \n",
       "10    2  \n",
       "11    2  \n",
       "12    1  \n",
       "13    1  \n",
       "14    1  \n",
       "\n",
       "[15 rows x 22 columns]"
      ]
     },
     "execution_count": 56,
     "metadata": {},
     "output_type": "execute_result"
    }
   ],
   "source": [
    "data.head(15)"
   ]
  },
  {
   "cell_type": "markdown",
   "metadata": {},
   "source": [
    "Podjela podataka u 10 podskupova za cross-validaciju (sačuvan omjer NSP kao u početnom datasetu zbog stratifikacije):"
   ]
  },
  {
   "cell_type": "code",
   "execution_count": 60,
   "metadata": {},
   "outputs": [],
   "source": [
    "X = data.iloc[:,0:-1].values \n",
    "y = data.iloc[:,-1].values # NSP dijagnoza"
   ]
  },
  {
   "cell_type": "code",
   "execution_count": 61,
   "metadata": {},
   "outputs": [],
   "source": [
    "from sklearn.model_selection import RepeatedStratifiedKFold\n",
    "\n",
    "random_state = 164981614\n",
    "\n",
    "rskf = RepeatedStratifiedKFold(n_splits=10, n_repeats=1, random_state=random_state)\n",
    "\n",
    "X_train, X_test, y_train, y_test = [], [], [], []\n",
    "\n",
    "for train_index, test_index in rskf.split(X, y):\n",
    "    X_train.append(X[train_index])\n",
    "    X_test.append(X[test_index])\n",
    "    y_train.append(y[train_index])\n",
    "    y_test.append(y[test_index])"
   ]
  },
  {
   "cell_type": "code",
   "execution_count": 62,
   "metadata": {},
   "outputs": [
    {
     "name": "stdout",
     "output_type": "stream",
     "text": [
      "0\n",
      "Veličina train seta:  1912\n",
      "Veličina test seta:  214\n",
      "1\n",
      "Veličina train seta:  1912\n",
      "Veličina test seta:  214\n",
      "2\n",
      "Veličina train seta:  1912\n",
      "Veličina test seta:  214\n",
      "3\n",
      "Veličina train seta:  1912\n",
      "Veličina test seta:  214\n",
      "4\n",
      "Veličina train seta:  1912\n",
      "Veličina test seta:  214\n",
      "5\n",
      "Veličina train seta:  1914\n",
      "Veličina test seta:  212\n",
      "6\n",
      "Veličina train seta:  1915\n",
      "Veličina test seta:  211\n",
      "7\n",
      "Veličina train seta:  1915\n",
      "Veličina test seta:  211\n",
      "8\n",
      "Veličina train seta:  1915\n",
      "Veličina test seta:  211\n",
      "9\n",
      "Veličina train seta:  1915\n",
      "Veličina test seta:  211\n"
     ]
    }
   ],
   "source": [
    "for i in range (10):\n",
    "    print(i)\n",
    "    print(\"Veličina train seta: \",len(X_train[i]))\n",
    "    print(\"Veličina test seta: \",len(X_test[i]))"
   ]
  },
  {
   "cell_type": "code",
   "execution_count": 130,
   "metadata": {},
   "outputs": [],
   "source": [
    "#from sklearn.preprocessing import StandardScaler\n",
    "#sc = StandardScaler()\n",
    "#X_train = sc.fit_transform(X_train)\n",
    "#X_test = sc.transform(X_test)\n",
    "\n",
    "#skaliranje ne radi ? (iz kaggle koda - popravi)"
   ]
  },
  {
   "cell_type": "code",
   "execution_count": 75,
   "metadata": {},
   "outputs": [],
   "source": [
    "#import sys"
   ]
  },
  {
   "cell_type": "code",
   "execution_count": 76,
   "metadata": {},
   "outputs": [],
   "source": [
    "#!{sys.executable} -m pip install xgboost"
   ]
  },
  {
   "cell_type": "code",
   "execution_count": 107,
   "metadata": {},
   "outputs": [],
   "source": [
    "import xgboost as xgb\n",
    "from sklearn.metrics import accuracy_score\n",
    "import seaborn as sns\n",
    "from sklearn.metrics import confusion_matrix\n",
    "import matplotlib.pyplot as plt\n",
    "from sklearn.metrics import classification_report"
   ]
  },
  {
   "cell_type": "code",
   "execution_count": 108,
   "metadata": {},
   "outputs": [
    {
     "data": {
      "text/plain": [
       "XGBClassifier(base_score=0.5, booster='gbtree', colsample_bylevel=1,\n",
       "       colsample_bytree=1, gamma=0, learning_rate=0.1, max_delta_step=0,\n",
       "       max_depth=3, min_child_weight=1, missing=None, n_estimators=100,\n",
       "       n_jobs=1, nthread=None, objective='multi:softprob', random_state=0,\n",
       "       reg_alpha=0, reg_lambda=1, scale_pos_weight=1, seed=None,\n",
       "       silent=True, subsample=1)"
      ]
     },
     "execution_count": 108,
     "metadata": {},
     "output_type": "execute_result"
    }
   ],
   "source": [
    "#xgb na prvom (train, test) za cross-validation\n",
    "\n",
    "model = xgb.XGBClassifier()\n",
    "model.fit(X_train[0], y_train[0])"
   ]
  },
  {
   "cell_type": "code",
   "execution_count": 109,
   "metadata": {},
   "outputs": [],
   "source": [
    "y_pred = model.predict(X_test[0])\n",
    "predictions = [round(value) for value in y_pred]"
   ]
  },
  {
   "cell_type": "code",
   "execution_count": 110,
   "metadata": {},
   "outputs": [
    {
     "name": "stdout",
     "output_type": "stream",
     "text": [
      "Accuracy: 94.39%\n"
     ]
    }
   ],
   "source": [
    "# evaluate model's predictions\n",
    "accuracy = accuracy_score(y_test[0], predictions)\n",
    "print(\"Accuracy: %.2f%%\" % (accuracy * 100.0))"
   ]
  },
  {
   "cell_type": "code",
   "execution_count": 111,
   "metadata": {},
   "outputs": [
    {
     "name": "stdout",
     "output_type": "stream",
     "text": [
      "The score is : 0.9439252336448598\n"
     ]
    },
    {
     "data": {
      "image/png": "[encoded data removed]",
      "text/plain": [
       "<Figure size 432x288 with 2 Axes>"
      ]
     },
     "metadata": {
      "needs_background": "light"
     },
     "output_type": "display_data"
    }
   ],
   "source": [
    "cm = confusion_matrix(y_test[0], y_pred)\n",
    "print('The score is : '+str(accuracy))   \n",
    "label = [\"N\",\"S\",\"P\"]\n",
    "sns.heatmap(cm1, annot=True, xticklabels=label, yticklabels=label, cmap=\"YlGnBu\")\n",
    "plt.show()"
   ]
  },
  {
   "cell_type": "code",
   "execution_count": 124,
   "metadata": {},
   "outputs": [],
   "source": [
    "X1_train, X1_test, y1_train, y1_test = train_test_split(X, y, test_size = 0.3, random_state = 0)"
   ]
  },
  {
   "cell_type": "code",
   "execution_count": 125,
   "metadata": {},
   "outputs": [
    {
     "data": {
      "text/plain": [
       "XGBClassifier(base_score=0.5, booster='gbtree', colsample_bylevel=1,\n",
       "       colsample_bytree=1, gamma=0, learning_rate=0.1, max_delta_step=0,\n",
       "       max_depth=3, min_child_weight=1, missing=None, n_estimators=100,\n",
       "       n_jobs=1, nthread=None, objective='multi:softprob', random_state=0,\n",
       "       reg_alpha=0, reg_lambda=1, scale_pos_weight=1, seed=None,\n",
       "       silent=True, subsample=1)"
      ]
     },
     "execution_count": 125,
     "metadata": {},
     "output_type": "execute_result"
    }
   ],
   "source": [
    "#xgb na (train, test) dobivenom slučajnom podjelom u omjeru 7 : 3 \n",
    "\n",
    "model1 = xgb.XGBClassifier()\n",
    "model1.fit(X1_train, y1_train)"
   ]
  },
  {
   "cell_type": "code",
   "execution_count": 126,
   "metadata": {},
   "outputs": [],
   "source": [
    "y1_pred = model1.predict(X1_test)\n",
    "predictions1 = [round(value) for value in y1_pred]"
   ]
  },
  {
   "cell_type": "code",
   "execution_count": 127,
   "metadata": {},
   "outputs": [
    {
     "name": "stdout",
     "output_type": "stream",
     "text": [
      "Accuracy: 95.14%\n"
     ]
    }
   ],
   "source": [
    "accuracy1 = accuracy_score(y1_test, predictions1)\n",
    "print(\"Accuracy: %.2f%%\" % (accuracy1 * 100.0))"
   ]
  },
  {
   "cell_type": "code",
   "execution_count": 128,
   "metadata": {},
   "outputs": [
    {
     "name": "stdout",
     "output_type": "stream",
     "text": [
      "The score is : 0.95141065830721\n"
     ]
    },
    {
     "data": {
      "image/png": "[encoded data removed]",
      "text/plain": [
       "<Figure size 432x288 with 2 Axes>"
      ]
     },
     "metadata": {
      "needs_background": "light"
     },
     "output_type": "display_data"
    }
   ],
   "source": [
    "cm1 = confusion_matrix(y1_test, y1_pred)\n",
    "print('The score is : '+str(accuracy1))   \n",
    "label = [\"N\",\"S\",\"P\"]\n",
    "sns.heatmap(cm1, annot=True, xticklabels=label, yticklabels=label, cmap=\"YlGnBu\")\n",
    "plt.show()"
   ]
  },
  {
   "cell_type": "code",
   "execution_count": 129,
   "metadata": {},
   "outputs": [
    {
     "name": "stdout",
     "output_type": "stream",
     "text": [
      "              precision    recall  f1-score   support\n",
      "\n",
      "           N       0.96      0.98      0.97       494\n",
      "           S       0.88      0.77      0.82        86\n",
      "           P       0.95      0.97      0.96        58\n",
      "\n",
      "   micro avg       0.95      0.95      0.95       638\n",
      "   macro avg       0.93      0.90      0.92       638\n",
      "weighted avg       0.95      0.95      0.95       638\n",
      "\n"
     ]
    }
   ],
   "source": [
    "target_names = ['N', 'S', 'P']\n",
    "print(classification_report(y1_test, y1_pred, target_names=target_names))"
   ]
  }
 ],
 "metadata": {
  "kernelspec": {
   "display_name": "Python 3",
   "language": "python",
   "name": "python3"
  },
  "language_info": {
   "codemirror_mode": {
    "name": "ipython",
    "version": 3
   },
   "file_extension": ".py",
   "mimetype": "text/x-python",
   "name": "python",
   "nbconvert_exporter": "python",
   "pygments_lexer": "ipython3",
   "version": "3.7.1"
  }
 },
 "nbformat": 4,
 "nbformat_minor": 2
}
