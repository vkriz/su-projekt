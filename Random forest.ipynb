{
 "cells": [
  {
   "cell_type": "markdown",
   "metadata": {},
   "source": [
    "## Random forest"
   ]
  },
  {
   "cell_type": "code",
   "execution_count": 18,
   "metadata": {},
   "outputs": [],
   "source": [
    "import pandas as pd\n",
    "from sklearn.metrics import accuracy_score\n",
    "import seaborn as sns\n",
    "from sklearn.metrics import confusion_matrix\n",
    "import matplotlib.pyplot as plt\n",
    "from sklearn.metrics import classification_report\n",
    "from sklearn.model_selection import train_test_split\n",
    "from sklearn.model_selection import KFold\n",
    "from sklearn.model_selection import cross_val_score\n"
   ]
  },
  {
   "cell_type": "code",
   "execution_count": 19,
   "metadata": {},
   "outputs": [],
   "source": [
    "#imena stupaca u CTG.xls koje ćemo koristiti\n",
    "column_names = ['LB', 'AC', 'FM', 'UC', 'DL', 'DS', 'DP', 'ASTV', 'MSTV', 'ALTV', 'MLTV', 'Width', 'Min', 'Max',\n",
    "                   'Nmax', 'Nzeros', 'Mode', 'Mean', 'Median', 'Variance', 'Tendency', 'NSP']\n",
    "\n",
    "#stupci koji sadrže int vrijednosti, samo za ljepši ispis\n",
    "int_columns = ['LB' ,'ASTV' ,'ALTV' ,'Width' ,'Min' ,'Max' ,'Nmax' ,'Nzeros' ,'Mode' ,'Mean' ,'Median' ,'Variance',\n",
    "               'Tendency', 'NSP']"
   ]
  },
  {
   "cell_type": "code",
   "execution_count": 20,
   "metadata": {
    "scrolled": true
   },
   "outputs": [],
   "source": [
    "data = pd.read_excel('CTG.xls', sheet_name = 'Data', skiprows = 1, \n",
    "                     usecols = [10, 11, 12, 13, 14, 15, 16, 17, 18, 19, 20, 21, 22, 23, 24, 25, 26, 27, 28, 29, 30, 45]\n",
    "                     , names = column_names)\n",
    "\n",
    "#izbacujemo sve retke u kojima je barem jedna varijabla nepoznata (NaN)\n",
    "data = data.dropna()\n",
    "\n",
    "for col in int_columns:\n",
    "    data[col] = (data[col]).astype(int)"
   ]
  },
  {
   "cell_type": "code",
   "execution_count": 21,
   "metadata": {},
   "outputs": [],
   "source": [
    "X = data.iloc[:,:-1].values \n",
    "y = data.iloc[:,-1].values # NSP dijagnoza\n",
    "\n",
    "from sklearn.model_selection import RepeatedStratifiedKFold\n",
    "\n",
    "random_state = 164981614\n",
    "\n",
    "rskf = RepeatedStratifiedKFold(n_splits=10, n_repeats=1, random_state=random_state)\n",
    "\n",
    "X_train, X_test, y_train, y_test = [], [], [], []\n",
    "\n",
    "for train_index, test_index in rskf.split(X, y):\n",
    "    X_train.append(X[train_index])\n",
    "    X_test.append(X[test_index])\n",
    "    y_train.append(y[train_index])\n",
    "    y_test.append(y[test_index])"
   ]
  },
  {
   "cell_type": "code",
   "execution_count": 22,
   "metadata": {},
   "outputs": [],
   "source": [
    "#Standardization of datasets is a common requirement for many machine learning estimators implemented in scikit-learn; \n",
    "#they might behave badly if the individual features do not more or less look like standard normally distributed data\n",
    "from sklearn.preprocessing import StandardScaler\n",
    "sc = StandardScaler()\n",
    "for i in range(5):\n",
    "    X_train[i] = sc.fit_transform(X_train[i])\n",
    "    X_test[i] = sc.transform(X_test[i])"
   ]
  },
  {
   "cell_type": "code",
   "execution_count": 23,
   "metadata": {},
   "outputs": [],
   "source": [
    "from sklearn.ensemble import RandomForestClassifier\n",
    "from sklearn.model_selection import train_test_split\n",
    "from scipy.io import arff"
   ]
  },
  {
   "cell_type": "code",
   "execution_count": 24,
   "metadata": {},
   "outputs": [],
   "source": [
    "X1_train, X1_test, y1_train, y1_test = train_test_split(X, y, test_size = 0.3, random_state = 0)"
   ]
  },
  {
   "cell_type": "code",
   "execution_count": 25,
   "metadata": {},
   "outputs": [
    {
     "data": {
      "text/plain": [
       "RandomForestClassifier(bootstrap=True, class_weight=None, criterion='entropy',\n",
       "            max_depth=None, max_features=21, max_leaf_nodes=None,\n",
       "            min_impurity_decrease=1e-07, min_impurity_split=None,\n",
       "            min_samples_leaf=3, min_samples_split=2,\n",
       "            min_weight_fraction_leaf=0.0, n_estimators=10, n_jobs=10,\n",
       "            oob_score=False, random_state=100, verbose=0, warm_start=False)"
      ]
     },
     "execution_count": 25,
     "metadata": {},
     "output_type": "execute_result"
    }
   ],
   "source": [
    "#clf = RandomForestClassifier(n_jobs=2, random_state=0)\n",
    "\n",
    "#clf.fit(X1_train, y1_train)\n",
    "clf = RandomForestClassifier(bootstrap=True, class_weight=None, criterion='entropy',\n",
    "            max_depth=None, max_features=21, max_leaf_nodes=None,\n",
    "            min_impurity_decrease=1e-07, min_samples_leaf=3,\n",
    "            min_samples_split=2, min_weight_fraction_leaf=0.0,\n",
    "            n_estimators=10, n_jobs=10, oob_score=False, random_state=100,\n",
    "            verbose=0, warm_start=False)\n",
    "\n",
    "clf.fit(X1_train, y1_train)"
   ]
  },
  {
   "cell_type": "code",
   "execution_count": 26,
   "metadata": {},
   "outputs": [],
   "source": [
    "y_pred = clf.predict(X1_test)\n",
    "predictions7 = [round(value) for value in y_pred]"
   ]
  },
  {
   "cell_type": "code",
   "execution_count": 27,
   "metadata": {},
   "outputs": [
    {
     "name": "stdout",
     "output_type": "stream",
     "text": [
      "Accuracy: 93.42%\n"
     ]
    }
   ],
   "source": [
    "accuracy7 = accuracy_score(y1_test, predictions7)\n",
    "print(\"Accuracy: %.2f%%\" % (accuracy7 * 100.0))"
   ]
  },
  {
   "cell_type": "code",
   "execution_count": 28,
   "metadata": {},
   "outputs": [
    {
     "data": {
      "text/plain": [
       "[(array([1.29000000e+02, 3.81194409e-03, 0.00000000e+00, 1.27064803e-03,\n",
       "         0.00000000e+00, 0.00000000e+00, 0.00000000e+00, 2.70000000e+01,\n",
       "         1.20000000e+00, 1.00000000e+00, 7.90000000e+00, 6.00000000e+01,\n",
       "         9.80000000e+01, 1.58000000e+02, 3.00000000e+00, 0.00000000e+00,\n",
       "         1.33000000e+02, 1.33000000e+02, 1.34000000e+02, 4.00000000e+00,\n",
       "         0.00000000e+00]), 0.027338920047138275),\n",
       " (array([1.42000000e+02, 3.17460317e-03, 5.00000000e-02, 2.38095238e-03,\n",
       "         5.55555556e-03, 0.00000000e+00, 7.93650794e-04, 6.60000000e+01,\n",
       "         3.30000000e+00, 0.00000000e+00, 3.00000000e-01, 1.13000000e+02,\n",
       "         6.70000000e+01, 1.80000000e+02, 7.00000000e+00, 0.00000000e+00,\n",
       "         1.41000000e+02, 1.11000000e+02, 1.47000000e+02, 9.00000000e+01,\n",
       "         1.00000000e+00]), 0.05047882265130073),\n",
       " (array([1.19000000e+02, 7.74443369e-03, 0.00000000e+00, 4.84027106e-03,\n",
       "         9.68054211e-04, 0.00000000e+00, 0.00000000e+00, 3.00000000e+01,\n",
       "         1.80000000e+00, 0.00000000e+00, 1.00000000e+01, 1.29000000e+02,\n",
       "         6.90000000e+01, 1.98000000e+02, 9.00000000e+00, 0.00000000e+00,\n",
       "         1.32000000e+02, 1.32000000e+02, 1.35000000e+02, 2.00000000e+01,\n",
       "         0.00000000e+00]), 0.012455193359183733),\n",
       " (array([1.26000000e+02, 7.64525994e-03, 3.97553517e-02, 4.58715596e-03,\n",
       "         0.00000000e+00, 0.00000000e+00, 0.00000000e+00, 4.20000000e+01,\n",
       "         1.50000000e+00, 0.00000000e+00, 7.80000000e+00, 1.47000000e+02,\n",
       "         5.10000000e+01, 1.98000000e+02, 9.00000000e+00, 0.00000000e+00,\n",
       "         1.33000000e+02, 1.36000000e+02, 1.34000000e+02, 1.30000000e+01,\n",
       "         0.00000000e+00]), 0.041017214292064355),\n",
       " (array([1.42000000e+02, 1.29533679e-03, 0.00000000e+00, 5.18134715e-03,\n",
       "         1.16580311e-02, 0.00000000e+00, 0.00000000e+00, 2.30000000e+01,\n",
       "         3.60000000e+00, 0.00000000e+00, 1.90000000e+00, 1.44000000e+02,\n",
       "         5.00000000e+01, 1.94000000e+02, 1.20000000e+01, 1.00000000e+00,\n",
       "         1.43000000e+02, 1.27000000e+02, 1.35000000e+02, 7.20000000e+01,\n",
       "         0.00000000e+00]), 0.0038376462398207827),\n",
       " (array([1.25000000e+02, 3.55029586e-03, 1.18343195e-02, 4.73372781e-03,\n",
       "         5.91715976e-03, 0.00000000e+00, 0.00000000e+00, 2.30000000e+01,\n",
       "         2.20000000e+00, 0.00000000e+00, 7.40000000e+00, 1.25000000e+02,\n",
       "         5.30000000e+01, 1.78000000e+02, 8.00000000e+00, 0.00000000e+00,\n",
       "         1.43000000e+02, 1.22000000e+02, 1.31000000e+02, 9.20000000e+01,\n",
       "         0.00000000e+00]), 0.0),\n",
       " (array([1.39000000e+02, 1.13085622e-02, 1.61550889e-03, 9.69305331e-03,\n",
       "         8.07754443e-03, 0.00000000e+00, 0.00000000e+00, 5.10000000e+01,\n",
       "         1.90000000e+00, 0.00000000e+00, 0.00000000e+00, 9.60000000e+01,\n",
       "         7.60000000e+01, 1.72000000e+02, 5.00000000e+00, 0.00000000e+00,\n",
       "         1.47000000e+02, 1.36000000e+02, 1.41000000e+02, 4.20000000e+01,\n",
       "         1.00000000e+00]), 0.06571586055909864),\n",
       " (array([ 1.20000000e+02,  0.00000000e+00,  0.00000000e+00,  4.80769231e-03,\n",
       "          8.65384615e-03,  0.00000000e+00,  9.61538462e-04,  6.20000000e+01,\n",
       "          1.50000000e+00,  0.00000000e+00,  8.80000000e+00,  8.50000000e+01,\n",
       "          6.90000000e+01,  1.54000000e+02,  5.00000000e+00,  1.00000000e+00,\n",
       "          8.60000000e+01,  1.02000000e+02,  1.01000000e+02,  6.40000000e+01,\n",
       "         -1.00000000e+00]), 0.2869705375436737),\n",
       " (array([1.22000000e+02, 5.03778338e-03, 0.00000000e+00, 3.77833753e-03,\n",
       "         2.51889169e-03, 0.00000000e+00, 0.00000000e+00, 3.10000000e+01,\n",
       "         1.20000000e+00, 0.00000000e+00, 6.70000000e+00, 5.70000000e+01,\n",
       "         9.30000000e+01, 1.50000000e+02, 2.00000000e+00, 0.00000000e+00,\n",
       "         1.33000000e+02, 1.30000000e+02, 1.34000000e+02, 1.20000000e+01,\n",
       "         1.00000000e+00]), 0.0864283725755895),\n",
       " (array([1.33000000e+02, 4.52488688e-03, 1.56862745e-01, 7.54147813e-03,\n",
       "         3.01659125e-03, 0.00000000e+00, 0.00000000e+00, 2.60000000e+01,\n",
       "         1.60000000e+00, 0.00000000e+00, 1.42000000e+01, 7.00000000e+01,\n",
       "         8.80000000e+01, 1.58000000e+02, 2.00000000e+00, 0.00000000e+00,\n",
       "         1.40000000e+02, 1.35000000e+02, 1.39000000e+02, 1.20000000e+01,\n",
       "         1.00000000e+00]), 0.1710110998813038),\n",
       " (array([1.36000000e+02, 0.00000000e+00, 1.29366106e-03, 6.46830530e-03,\n",
       "         0.00000000e+00, 0.00000000e+00, 0.00000000e+00, 7.40000000e+01,\n",
       "         1.00000000e+00, 2.10000000e+01, 7.00000000e+00, 4.20000000e+01,\n",
       "         1.07000000e+02, 1.49000000e+02, 2.00000000e+00, 0.00000000e+00,\n",
       "         1.37000000e+02, 1.35000000e+02, 1.38000000e+02, 1.00000000e+00,\n",
       "         1.00000000e+00]), 0.012897341307157343),\n",
       " (array([ 1.20000000e+02,  0.00000000e+00,  0.00000000e+00,  4.55580866e-03,\n",
       "          5.69476082e-03,  0.00000000e+00,  2.27790433e-03,  6.40000000e+01,\n",
       "          1.10000000e+00,  0.00000000e+00,  8.10000000e+00,  8.50000000e+01,\n",
       "          6.90000000e+01,  1.54000000e+02,  2.00000000e+00,  1.00000000e+00,\n",
       "          8.60000000e+01,  9.80000000e+01,  9.50000000e+01,  4.40000000e+01,\n",
       "         -1.00000000e+00]), 0.007374295219571532),\n",
       " (array([1.33000000e+02, 0.00000000e+00, 0.00000000e+00, 7.04225352e-03,\n",
       "         7.82472613e-04, 0.00000000e+00, 0.00000000e+00, 2.70000000e+01,\n",
       "         1.40000000e+00, 1.00000000e+00, 1.88000000e+01, 5.60000000e+01,\n",
       "         9.60000000e+01, 1.52000000e+02, 5.00000000e+00, 0.00000000e+00,\n",
       "         1.36000000e+02, 1.34000000e+02, 1.37000000e+02, 4.00000000e+00,\n",
       "         1.00000000e+00]), 0.01761646798181692),\n",
       " (array([1.35000000e+02, 3.31491713e-03, 0.00000000e+00, 3.31491713e-03,\n",
       "         3.31491713e-03, 0.00000000e+00, 0.00000000e+00, 2.40000000e+01,\n",
       "         1.50000000e+00, 0.00000000e+00, 1.31000000e+01, 5.50000000e+01,\n",
       "         1.02000000e+02, 1.57000000e+02, 4.00000000e+00, 0.00000000e+00,\n",
       "         1.36000000e+02, 1.34000000e+02, 1.36000000e+02, 9.00000000e+00,\n",
       "         0.00000000e+00]), 0.015355350673334971),\n",
       " (array([1.36000000e+02, 0.00000000e+00, 0.00000000e+00, 6.88705234e-03,\n",
       "         0.00000000e+00, 0.00000000e+00, 0.00000000e+00, 3.90000000e+01,\n",
       "         9.00000000e-01, 0.00000000e+00, 1.26000000e+01, 4.10000000e+01,\n",
       "         1.10000000e+02, 1.51000000e+02, 3.00000000e+00, 0.00000000e+00,\n",
       "         1.39000000e+02, 1.39000000e+02, 1.40000000e+02, 1.00000000e+00,\n",
       "         1.00000000e+00]), 0.01357123744528482),\n",
       " (array([ 1.34000000e+02,  3.01659125e-03,  0.00000000e+00,  0.00000000e+00,\n",
       "          0.00000000e+00,  0.00000000e+00,  4.52488688e-03,  6.40000000e+01,\n",
       "          1.70000000e+00,  0.00000000e+00,  0.00000000e+00,  1.14000000e+02,\n",
       "          6.60000000e+01,  1.80000000e+02,  6.00000000e+00,  1.00000000e+00,\n",
       "          8.80000000e+01,  1.01000000e+02,  1.02000000e+02,  8.80000000e+01,\n",
       "         -1.00000000e+00]), 0.0017816224850907634),\n",
       " (array([1.16000000e+02, 0.00000000e+00, 0.00000000e+00, 4.87804878e-03,\n",
       "         0.00000000e+00, 0.00000000e+00, 0.00000000e+00, 4.80000000e+01,\n",
       "         6.00000000e-01, 2.60000000e+01, 5.50000000e+00, 1.20000000e+01,\n",
       "         1.14000000e+02, 1.26000000e+02, 1.00000000e+00, 0.00000000e+00,\n",
       "         1.20000000e+02, 1.20000000e+02, 1.22000000e+02, 0.00000000e+00,\n",
       "         0.00000000e+00]), 0.02050896954363125),\n",
       " (array([147. ,   0. ,   0. ,   0. ,   0. ,   0. ,   0. ,  60. ,   0.4,\n",
       "          12. ,   5.5,  10. , 144. , 154. ,   0. ,   0. , 150. , 149. ,\n",
       "         150. ,   0. ,   0. ]), 0.12504126122780396),\n",
       " (array([1.41000000e+02, 1.83823529e-03, 0.00000000e+00, 1.83823529e-03,\n",
       "         0.00000000e+00, 0.00000000e+00, 0.00000000e+00, 6.20000000e+01,\n",
       "         5.00000000e-01, 1.40000000e+01, 7.80000000e+00, 3.40000000e+01,\n",
       "         1.25000000e+02, 1.59000000e+02, 1.00000000e+00, 0.00000000e+00,\n",
       "         1.50000000e+02, 1.46000000e+02, 1.49000000e+02, 2.00000000e+00,\n",
       "         1.00000000e+00]), 0.022153830543280375),\n",
       " (array([ 1.28000000e+02,  0.00000000e+00,  0.00000000e+00,  5.54016620e-03,\n",
       "          1.38504155e-02,  0.00000000e+00,  2.77008310e-03,  2.30000000e+01,\n",
       "          6.30000000e+00,  0.00000000e+00,  0.00000000e+00,  1.44000000e+02,\n",
       "          5.20000000e+01,  1.96000000e+02,  1.00000000e+01,  2.00000000e+00,\n",
       "          9.00000000e+01,  9.80000000e+01,  9.10000000e+01,  9.50000000e+01,\n",
       "         -1.00000000e+00]), 0.018298234047512844),\n",
       " (array([1.27000000e+02, 0.00000000e+00, 0.00000000e+00, 6.92520776e-03,\n",
       "         5.54016620e-03, 0.00000000e+00, 0.00000000e+00, 2.00000000e+01,\n",
       "         2.20000000e+00, 0.00000000e+00, 1.93000000e+01, 7.80000000e+01,\n",
       "         8.10000000e+01, 1.59000000e+02, 4.00000000e+00, 0.00000000e+00,\n",
       "         1.31000000e+02, 1.22000000e+02, 1.24000000e+02, 2.30000000e+01,\n",
       "         0.00000000e+00]), 0.0001477223763416288)]"
      ]
     },
     "execution_count": 28,
     "metadata": {},
     "output_type": "execute_result"
    }
   ],
   "source": [
    "list(zip(X1_train, clf.feature_importances_))"
   ]
  },
  {
   "cell_type": "code",
   "execution_count": 29,
   "metadata": {},
   "outputs": [
    {
     "name": "stdout",
     "output_type": "stream",
     "text": [
      "Accuracy: 87.44% (7.60%)\n"
     ]
    }
   ],
   "source": [
    "# CV model\n",
    "#clf = RandomForestClassifier()\n",
    "kfold = KFold(n_splits=5, random_state=7)\n",
    "results = cross_val_score(clf, X, y, cv=kfold)\n",
    "print(\"Accuracy: %.2f%% (%.2f%%)\" % (results.mean()*100, results.std()*100))"
   ]
  },
  {
   "cell_type": "code",
   "execution_count": 30,
   "metadata": {},
   "outputs": [
    {
     "name": "stdout",
     "output_type": "stream",
     "text": [
      "Accuracy: 85.79% (8.49%)\n"
     ]
    }
   ],
   "source": [
    "from sklearn.model_selection import StratifiedKFold\n",
    "clf_cv_strat = clf\n",
    "kfold_strat = StratifiedKFold(n_splits=5, random_state=7)\n",
    "results = cross_val_score(clf_cv_strat, X, y, cv=kfold_strat)\n",
    "print(\"Accuracy: %.2f%% (%.2f%%)\" % (results.mean()*100, results.std()*100))"
   ]
  },
  {
   "cell_type": "code",
   "execution_count": 31,
   "metadata": {},
   "outputs": [
    {
     "name": "stdout",
     "output_type": "stream",
     "text": [
      "i: %d 0\n",
      "Accuracy: 95.33%\n",
      "i: %d 1\n",
      "Accuracy: 95.33%\n",
      "i: %d 2\n",
      "Accuracy: 96.26%\n",
      "i: %d 3\n",
      "Accuracy: 93.46%\n",
      "i: %d 4\n",
      "Accuracy: 95.79%\n"
     ]
    }
   ],
   "source": [
    "#accuracy samo za svaki train/test set; cross validacija\n",
    "clf2 = clf\n",
    "\n",
    "for i in range(5):\n",
    "    print(\"i: %d\", i)\n",
    "    clf2.fit(X_train[i], y_train[i])\n",
    "    y2_pred = clf2.predict(X_test[i])\n",
    "    predictions77 = [round(value) for value in y2_pred]\n",
    "    accuracy77 = accuracy_score(y_test[i], predictions77)\n",
    "    print(\"Accuracy: %.2f%%\" % (accuracy77 * 100.0))"
   ]
  },
  {
   "cell_type": "code",
   "execution_count": null,
   "metadata": {},
   "outputs": [],
   "source": []
  }
 ],
 "metadata": {
  "kernelspec": {
   "display_name": "Python 3",
   "language": "python",
   "name": "python3"
  },
  "language_info": {
   "codemirror_mode": {
    "name": "ipython",
    "version": 3
   },
   "file_extension": ".py",
   "mimetype": "text/x-python",
   "name": "python",
   "nbconvert_exporter": "python",
   "pygments_lexer": "ipython3",
   "version": "3.7.3"
  }
 },
 "nbformat": 4,
 "nbformat_minor": 2
}
